{
 "cells": [
  {
   "cell_type": "markdown",
   "metadata": {},
   "source": [
    "## Programming Assignment_2\n",
    "\n",
    "\n",
    "1.\tWrite a Python program to convert kilometers to miles?\n",
    "2.\tWrite a Python program to convert Celsius to Fahrenheit?\n",
    "3.\tWrite a Python program to display calendar?\n",
    "4.\tWrite a Python program to solve quadratic equation?\n",
    "5.\tWrite a Python program to swap two variables without temp variable?\n",
    "\n"
   ]
  },
  {
   "cell_type": "code",
   "execution_count": 5,
   "metadata": {},
   "outputs": [
    {
     "name": "stdout",
     "output_type": "stream",
     "text": [
      " 3 Km is equal to 1.8641130000000001 miles \n"
     ]
    }
   ],
   "source": [
    "# 1.\tWrite a Python program to convert kilometers to miles?\n",
    "# Function to convert KM to miles\n",
    "def dist_conversion(var1):\n",
    "    return var1 * 0.621371\n",
    "\n",
    "var = 3\n",
    "print (f\" {var} Km is equal to {dist_conversion(var)} miles \")\n"
   ]
  },
  {
   "cell_type": "code",
   "execution_count": 6,
   "metadata": {},
   "outputs": [
    {
     "name": "stdout",
     "output_type": "stream",
     "text": [
      "32 Celsius is equal to 89.6 Fahrenheit\n"
     ]
    }
   ],
   "source": [
    "# 2.\tWrite a Python program to convert Celsius to Fahrenheit?\n",
    "\n",
    "def temp_convert(celsius):\n",
    "    return 1.8 * celsius + 32\n",
    "\n",
    "temp = 32\n",
    "\n",
    "print(f\"{temp} Celsius is equal to {temp_convert(temp)} Fahrenheit\")"
   ]
  },
  {
   "cell_type": "code",
   "execution_count": 8,
   "metadata": {},
   "outputs": [
    {
     "name": "stdout",
     "output_type": "stream",
     "text": [
      "     April 2021\n",
      "Mo Tu We Th Fr Sa Su\n",
      "          1  2  3  4\n",
      " 5  6  7  8  9 10 11\n",
      "12 13 14 15 16 17 18\n",
      "19 20 21 22 23 24 25\n",
      "26 27 28 29 30\n",
      "\n"
     ]
    }
   ],
   "source": [
    "# 3.\tWrite a Python program to display calendar?\n",
    "\n",
    "import calendar\n",
    "year = 2021\n",
    "month = 4\n",
    "\n",
    "print (calendar.month(year, month))"
   ]
  },
  {
   "cell_type": "code",
   "execution_count": 14,
   "metadata": {},
   "outputs": [
    {
     "name": "stdout",
     "output_type": "stream",
     "text": [
      "Solution of quadratic eqn : ((-0.25-0.82915619758885j), (-0.25+0.82915619758885j))\n"
     ]
    }
   ],
   "source": [
    "# 4.\tWrite a Python program to solve quadratic equation?\n",
    "import cmath\n",
    "\n",
    "def solve_quadratic(a, b, c):\n",
    "    try:\n",
    "        # calculate the discriminant\n",
    "        d = (b**2) - (4 *a*c)\n",
    "        # find two solutions\n",
    "        sol1 = (-b-cmath.sqrt(d))/(2*a)\n",
    "        sol2 = (-b+cmath.sqrt(d))/(2*a)\n",
    "        return sol1, sol2\n",
    "    except Exception as e:\n",
    "        return f\"Error: {e}\"\n",
    "\n",
    "    \n",
    "soln = solve_quadratic(4, 2, 3)\n",
    "\n",
    "print(f\"Solution of quadratic eqn : {soln}\")"
   ]
  },
  {
   "cell_type": "code",
   "execution_count": 15,
   "metadata": {},
   "outputs": [
    {
     "name": "stdout",
     "output_type": "stream",
     "text": [
      "(115, 100)\n"
     ]
    }
   ],
   "source": [
    "# 5.\tWrite a Python program to swap two variables without temp variable?\n",
    "\n",
    "\n",
    "def swap(var1, var2):\n",
    "    var1 = var1 + var2\n",
    "    var2 = var1 - var2\n",
    "    var1 = var1 - var2\n",
    "    return var1,var2\n",
    "\n",
    "print (swap(100,115))"
   ]
  },
  {
   "cell_type": "code",
   "execution_count": null,
   "metadata": {},
   "outputs": [],
   "source": []
  }
 ],
 "metadata": {
  "kernelspec": {
   "display_name": "Python 3",
   "language": "python",
   "name": "python3"
  },
  "language_info": {
   "codemirror_mode": {
    "name": "ipython",
    "version": 3
   },
   "file_extension": ".py",
   "mimetype": "text/x-python",
   "name": "python",
   "nbconvert_exporter": "python",
   "pygments_lexer": "ipython3",
   "version": "3.6.9"
  }
 },
 "nbformat": 4,
 "nbformat_minor": 4
}
