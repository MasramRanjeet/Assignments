{
 "cells": [
  {
   "cell_type": "markdown",
   "metadata": {},
   "source": [
    "## Programming Assignment_3\n",
    "\n",
    "1.\tWrite a Python Program to Check if a Number is Positive, Negative or Zero?\n",
    "2.\tWrite a Python Program to Check if a Number is Odd or Even?\n",
    "3.\tWrite a Python Program to Check Leap Year?\n",
    "4.\tWrite a Python Program to Check Prime Number?\n",
    "5.\tWrite a Python Program to Print all Prime Numbers in an Interval of 1-10000?\n"
   ]
  },
  {
   "cell_type": "code",
   "execution_count": 17,
   "metadata": {},
   "outputs": [],
   "source": [
    "#Intellesence in Jupyter Notebook\n",
    "%config IPCompleter.greedy=True\n",
    "%config Completer.use_jedi = False\n"
   ]
  },
  {
   "cell_type": "code",
   "execution_count": 34,
   "metadata": {},
   "outputs": [
    {
     "name": "stdout",
     "output_type": "stream",
     "text": [
      "True\n",
      "False\n",
      "True\n",
      "Invalid Input. Number Expected. Received <class 'str'>. Error: '>=' not supported between instances of 'str' and 'int'\n"
     ]
    }
   ],
   "source": [
    "# 1.\tWrite a Python Program to Check if a Number is Positive, Negative or Zero?\n",
    "\n",
    "# Function returns \n",
    "#              True if the number is positive\n",
    "#              False if the number is Neagtive\n",
    "#              Error message if the wrong type is passed\n",
    "\n",
    "def posNeg(num):\n",
    "    \"\"\"\n",
    "    Function returns: \n",
    "              True if the number is positive\n",
    "              False if the number is Negative\n",
    "              Error message if the wrong type is passed\n",
    "\n",
    "    \"\"\"\n",
    "    try:\n",
    "        if num >= 0:\n",
    "            return True\n",
    "        else:\n",
    "            return False\n",
    "    except Exception as e:\n",
    "        return f\"Invalid Input. Number Expected. Received {type(num)}. Error: {e}\" \n",
    "    \n",
    "print (posNeg(1))\n",
    "print(posNeg(-12))\n",
    "print(posNeg(0.1))\n",
    "print (posNeg(\"1vc\"))"
   ]
  },
  {
   "cell_type": "code",
   "execution_count": 32,
   "metadata": {},
   "outputs": [
    {
     "name": "stdout",
     "output_type": "stream",
     "text": [
      "22: Is Even number\n",
      "3: Is Odd number\n",
      "Invalid Input. Number Expected. Received <class 'str'>. Error: not all arguments converted during string formatting\n"
     ]
    }
   ],
   "source": [
    "# 2.\tWrite a Python Program to Check if a Number is Odd or Even?\n",
    "\n",
    "def oddEven(num):\n",
    "    \"\"\"\n",
    "        Function returns: \n",
    "              Even if the number is Even\n",
    "              Odd if the number is Odd\n",
    "              Error message if invalid Input\n",
    "\n",
    "    \"\"\"\n",
    "    try:\n",
    "        if num%2 == 0:\n",
    "            return f\"{num}: Is Even number\"\n",
    "        else:\n",
    "            return f\"{num}: Is Odd number\"\n",
    "    except Exception as e:\n",
    "        return f\"Invalid Input. Number Expected. Received {type(num)}. Error: {e}\" \n",
    "    \n",
    "print(oddEven(22))\n",
    "print(oddEven(3))\n",
    "print(oddEven(\"abc\"))"
   ]
  },
  {
   "cell_type": "code",
   "execution_count": 50,
   "metadata": {},
   "outputs": [
    {
     "data": {
      "text/plain": [
       "True"
      ]
     },
     "execution_count": 50,
     "metadata": {},
     "output_type": "execute_result"
    }
   ],
   "source": [
    "# 3.\tWrite a Python Program to Check Leap Year?\n",
    "\n",
    "# if year is divisible by 4, 400 then is_leap_year\n",
    "# if year is divisible by 100 then not_leap_year\n",
    "\n",
    "def checkLeapYear(year):\n",
    "    \"\"\"\n",
    "    Function take year as an input. And check if it is a leap year.\n",
    "    \"\"\"\n",
    "    try:\n",
    "        if (year > 0):\n",
    "            \n",
    "            if ((year%4 == 0) and (year%100 != 0)):\n",
    "                return True\n",
    "            \n",
    "            elif (year%400 == 0):\n",
    "                return True\n",
    "            \n",
    "            else:\n",
    "                return False\n",
    "            \n",
    "        else:\n",
    "            return False\n",
    "        \n",
    "    except Exception as e:\n",
    "        return f\"Invalid Input. Number Expected. Error: {e}\"\n",
    "\n",
    "checkLeapYear(2004)      "
   ]
  },
  {
   "cell_type": "code",
   "execution_count": 84,
   "metadata": {},
   "outputs": [
    {
     "name": "stdout",
     "output_type": "stream",
     "text": [
      "6 is not a prime number\n",
      "71 is a prime number\n"
     ]
    }
   ],
   "source": [
    "# 4.\tWrite a Python Program to Check Prime Number?\n",
    "\n",
    "def primeNumber(num):\n",
    "    \"\"\"\n",
    "    Function to check if the number is prime or not\n",
    "    \"\"\"\n",
    "    try:\n",
    "        if num > 1:\n",
    "            \n",
    "            # If num is divisible by any number between\n",
    "            # 2 and n / 2, it is not prime\n",
    "            for i in range(2, int(num/2) + 1):\n",
    "                if (num%i == 0):\n",
    "                    print(f\"{num} is not a prime number\")\n",
    "                    break\n",
    "                    \n",
    "            else:\n",
    "                print(f\"{num} is a prime number\")\n",
    "        \n",
    "        else:\n",
    "            print(f\"{num} is not a prime number\")\n",
    "    except Exception as e:\n",
    "        return e\n",
    "\n",
    "\n",
    "primeNumber(6)\n",
    "primeNumber(71)\n",
    "        "
   ]
  },
  {
   "cell_type": "code",
   "execution_count": null,
   "metadata": {},
   "outputs": [],
   "source": [
    "# 5.\tWrite a Python Program to Print all Prime Numbers in an Interval of 1-10000?\n",
    "\n",
    "def printPrimeNumber(lower, upper):\n",
    "    try:\n",
    "        pass\n",
    "    except Exception as e:\n",
    "        return e\n",
    "    "
   ]
  }
 ],
 "metadata": {
  "kernelspec": {
   "display_name": "Python 3",
   "language": "python",
   "name": "python3"
  },
  "language_info": {
   "codemirror_mode": {
    "name": "ipython",
    "version": 3
   },
   "file_extension": ".py",
   "mimetype": "text/x-python",
   "name": "python",
   "nbconvert_exporter": "python",
   "pygments_lexer": "ipython3",
   "version": "3.6.9"
  }
 },
 "nbformat": 4,
 "nbformat_minor": 4
}
