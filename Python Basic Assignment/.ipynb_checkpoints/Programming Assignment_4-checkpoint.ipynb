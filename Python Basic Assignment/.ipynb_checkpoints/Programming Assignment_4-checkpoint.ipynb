{
 "cells": [
  {
   "cell_type": "markdown",
   "metadata": {},
   "source": [
    "## Programming Assignment_4\n",
    "\n",
    "\n",
    "1.\tWrite a Python Program to Find the Factorial of a Number?\n",
    "2.\tWrite a Python Program to Display the multiplication Table?\n",
    "3.\tWrite a Python Program to Print the Fibonacci sequence?\n",
    "4.\tWrite a Python Program to Check Armstrong Number?\n",
    "5.\tWrite a Python Program to Find Armstrong Number in an Interval?\n",
    "6.\tWrite a Python Program to Find the Sum of Natural Numbers?\n",
    "\n"
   ]
  },
  {
   "cell_type": "code",
   "execution_count": 13,
   "metadata": {},
   "outputs": [],
   "source": [
    "#Intellesence in Jupyter Notebook\n",
    "%config IPCompleter.greedy=True\n",
    "%config Completer.use_jedi = False\n"
   ]
  },
  {
   "cell_type": "markdown",
   "metadata": {},
   "source": [
    "### 1.\tWrite a Python Program to Find the Factorial of a Number?"
   ]
  },
  {
   "cell_type": "code",
   "execution_count": 205,
   "metadata": {},
   "outputs": [],
   "source": [
    "# 1.\tWrite a Python Program to Find the Factorial of a Number?\n",
    "\n",
    "#5! = 5*4*3*2*1\n",
    "\n",
    "\n",
    "def factorial(num):\n",
    "    \"\"\"\n",
    "    This Function finds factorial of a number.\n",
    "    Params: \n",
    "        num: int\n",
    "    Returns: Factorial of number\n",
    "    \"\"\"\n",
    "    try:\n",
    "        # checking the type of input \n",
    "        if (type(num) == int):\n",
    "        \n",
    "            # checking in the number is greater than 0\n",
    "            if num >= 0:\n",
    "                \n",
    "                if ((num ==1) or (num==0)):\n",
    "                    return 1\n",
    "                else:\n",
    "                    return num * factorial(num-1)\n",
    "            \n",
    "            # Raising an ValueError in case of negative number\n",
    "            else:\n",
    "                raise ValueError\n",
    "                \n",
    "        # Raising TypeError if input is not integer        \n",
    "        else:\n",
    "            raise TypeError\n",
    "            \n",
    "    except TypeError as e:\n",
    "        print (f\"Error: Invalid input. Required integer number\")\n",
    "    \n",
    "    except ValueError as e:\n",
    "        print (\"Error: factorial() not defined for negative values\")\n",
    "    \n",
    "    except Exception as e:\n",
    "        print (f\"Error {e}\")"
   ]
  },
  {
   "cell_type": "code",
   "execution_count": 206,
   "metadata": {},
   "outputs": [
    {
     "data": {
      "text/plain": [
       "120"
      ]
     },
     "execution_count": 206,
     "metadata": {},
     "output_type": "execute_result"
    }
   ],
   "source": [
    "factorial(5)"
   ]
  },
  {
   "cell_type": "code",
   "execution_count": 207,
   "metadata": {},
   "outputs": [
    {
     "name": "stdout",
     "output_type": "stream",
     "text": [
      "Error: Invalid input. Required integer number\n"
     ]
    }
   ],
   "source": [
    "factorial(4.6)"
   ]
  },
  {
   "cell_type": "code",
   "execution_count": 208,
   "metadata": {},
   "outputs": [
    {
     "name": "stdout",
     "output_type": "stream",
     "text": [
      "Error: Invalid input. Required integer number\n"
     ]
    }
   ],
   "source": [
    "factorial(\"a\")"
   ]
  },
  {
   "cell_type": "code",
   "execution_count": 209,
   "metadata": {},
   "outputs": [
    {
     "name": "stdout",
     "output_type": "stream",
     "text": [
      "Error: factorial() not defined for negative values\n"
     ]
    }
   ],
   "source": [
    "factorial(-1)"
   ]
  },
  {
   "cell_type": "markdown",
   "metadata": {},
   "source": [
    "### 2.\tWrite a Python Program to Display the multiplication Table?"
   ]
  },
  {
   "cell_type": "code",
   "execution_count": 76,
   "metadata": {},
   "outputs": [],
   "source": [
    "# 2.\tWrite a Python Program to Display the multiplication Table?\n",
    "\n",
    "def Multiplication(num):\n",
    "    \"\"\"\n",
    "    This program returns the multiplication Table of number\n",
    "    \"\"\"\n",
    "    \n",
    "    try:\n",
    "        for i in range(1, 11):\n",
    "            print (f\"{num} * {i} = {num*i}\")\n",
    "    except Exception as e:\n",
    "        return f\"Invalid Input: Error {e}\""
   ]
  },
  {
   "cell_type": "code",
   "execution_count": 77,
   "metadata": {},
   "outputs": [
    {
     "name": "stdout",
     "output_type": "stream",
     "text": [
      "11 * 1 = 11\n",
      "11 * 2 = 22\n",
      "11 * 3 = 33\n",
      "11 * 4 = 44\n",
      "11 * 5 = 55\n",
      "11 * 6 = 66\n",
      "11 * 7 = 77\n",
      "11 * 8 = 88\n",
      "11 * 9 = 99\n",
      "11 * 10 = 110\n"
     ]
    }
   ],
   "source": [
    "Multiplication(11)"
   ]
  },
  {
   "cell_type": "markdown",
   "metadata": {},
   "source": [
    "### 3.\tWrite a Python Program to Print the Fibonacci sequence?"
   ]
  },
  {
   "cell_type": "code",
   "execution_count": 101,
   "metadata": {},
   "outputs": [],
   "source": [
    "# 3.\tWrite a Python Program to Print the Fibonacci sequence?\n",
    "\n",
    "# the sequence Fn of Fibonacci numbers is defined by the recurrence relation \n",
    "# Fn = Fn-1 + Fn-2\n",
    "# with seed values\n",
    "# F0 = 0 and F1 = 1.\n",
    "\n",
    "def Fibonacci(num):\n",
    "    \"\"\"\n",
    "    function returns the fibonacci of the num\n",
    "    \"\"\"\n",
    "    try:\n",
    "        num = int(num)\n",
    "        if (num<0) :\n",
    "            print(\"Incorrect Input\")\n",
    "            \n",
    "        elif (num==0) :\n",
    "            return 0\n",
    "        \n",
    "        elif ((num==1) or (num==2)) :\n",
    "            return 1\n",
    "        \n",
    "        else:\n",
    "            return Fibonacci(num-1) + Fibonacci(num-2)\n",
    "                \n",
    "    except Exception as e:\n",
    "        return f\"Error: {e} \\nInterger Input Required. \"\n",
    "    \n",
    "        "
   ]
  },
  {
   "cell_type": "code",
   "execution_count": 70,
   "metadata": {},
   "outputs": [
    {
     "data": {
      "text/plain": [
       "55"
      ]
     },
     "execution_count": 70,
     "metadata": {},
     "output_type": "execute_result"
    }
   ],
   "source": [
    "Fibonacci(10)"
   ]
  },
  {
   "cell_type": "markdown",
   "metadata": {},
   "source": [
    "### 4.\tWrite a Python Program to Check Armstrong Number?"
   ]
  },
  {
   "cell_type": "code",
   "execution_count": 100,
   "metadata": {},
   "outputs": [],
   "source": [
    "# 4.\tWrite a Python Program to Check Armstrong Number?\n",
    "\n",
    "# Whatis Armstrong Number\n",
    "# A positive integer of n digits is called an Armstrong number of order n (order is number of digits) if.\n",
    "# abcd... = pow(a,n) + pow(b,n) + pow(c,n) + pow(d,n) + .... \n",
    "# Input : 153\n",
    "# Output : Yes\n",
    "# 153 is an Armstrong number.\n",
    "# 1*1*1 + 5*5*5 + 3*3*3 = 153\n",
    "\n",
    "import math\n",
    "\n",
    "# Function returns the order of the number \n",
    "def order(input_num):\n",
    "    n = 0\n",
    "    while (input_num != 0) :\n",
    "        n = n+1\n",
    "        input_num = input_num // 10\n",
    "    return n\n",
    "\n",
    "# Functions checks if the number is Armstrong or Not\n",
    "def isArmstrong(input_num):\n",
    "    \"\"\"\n",
    "    Functions checks if the number is Armstrong or Not\n",
    "    Input: Requires an integer input. \n",
    "    Returns :\n",
    "                True: if the number is Armstrong number\n",
    "                False: if the number is not an Armstrong number\n",
    "                Error: In case of an issue\n",
    "    \"\"\"\n",
    "    try:\n",
    "        \n",
    "        if input_num > 0:\n",
    "            # finding the order on the input number \n",
    "            n = order(input_num)\n",
    "            temp = input_num\n",
    "            sum_ = 0\n",
    "        \n",
    "        else :\n",
    "            raise ValueError \n",
    "        \n",
    "        while (temp != 0):\n",
    "            remainder = temp % 10\n",
    "            sum_ = sum_ + math.pow(remainder , n)\n",
    "            temp = temp // 10\n",
    "        return (sum_ == input_num)\n",
    "    \n",
    "    except ValueError as e:\n",
    "        print (f\"Error:  {e} \\nPlease provide positive number. \")\n",
    "    \n",
    "    except Exception as e:\n",
    "        return f\"Integer input Required. Error: {e}\""
   ]
  },
  {
   "cell_type": "code",
   "execution_count": 95,
   "metadata": {},
   "outputs": [
    {
     "data": {
      "text/plain": [
       "True"
      ]
     },
     "execution_count": 95,
     "metadata": {},
     "output_type": "execute_result"
    }
   ],
   "source": [
    "isArmstrong(153)"
   ]
  },
  {
   "cell_type": "code",
   "execution_count": 96,
   "metadata": {},
   "outputs": [
    {
     "data": {
      "text/plain": [
       "False"
      ]
     },
     "execution_count": 96,
     "metadata": {},
     "output_type": "execute_result"
    }
   ],
   "source": [
    "isArmstrong(122)"
   ]
  },
  {
   "cell_type": "code",
   "execution_count": 97,
   "metadata": {},
   "outputs": [
    {
     "data": {
      "text/plain": [
       "\"Integer input Required. Error: '>' not supported between instances of 'str' and 'int'\""
      ]
     },
     "execution_count": 97,
     "metadata": {},
     "output_type": "execute_result"
    }
   ],
   "source": [
    "isArmstrong(\"abc\")"
   ]
  },
  {
   "cell_type": "markdown",
   "metadata": {},
   "source": [
    "### 5.\tWrite a Python Program to Find Armstrong Number in an Interval?"
   ]
  },
  {
   "cell_type": "code",
   "execution_count": 177,
   "metadata": {},
   "outputs": [],
   "source": [
    "# 5.\tWrite a Python Program to Find Armstrong Number in an Interval?\n",
    "\n",
    "import math\n",
    "\n",
    "# Function returns the order of the number \n",
    "def order(input_num):\n",
    "    \"\"\"\n",
    "    Function returns the order of the number\n",
    "    \"\"\"\n",
    "    n = 0\n",
    "    while (input_num != 0) :\n",
    "        n = n+1\n",
    "        input_num = input_num // 10\n",
    "    return n\n",
    "\n",
    "# Functions checks if the number is Armstrong or Not\n",
    "def isArmstrong(input_num):\n",
    "    \"\"\"\n",
    "    Functions checks if the number is Armstrong or Not\n",
    "    Input: Requires an integer input. \n",
    "    Returns :\n",
    "                True: if the number is Armstrong number\n",
    "                False: if the number is not an Armstrong number\n",
    "                Error: In case of an issue\n",
    "    \"\"\"\n",
    "    try:\n",
    "        \n",
    "        if input_num > 0:\n",
    "            # finding the order on the input number \n",
    "            n = order(input_num)\n",
    "            temp = input_num\n",
    "            sum_ = 0\n",
    "        \n",
    "        else :\n",
    "            raise ValueError \n",
    "        \n",
    "        while (temp != 0):\n",
    "            remainder = temp % 10\n",
    "            sum_ = sum_ + math.pow(remainder , n)\n",
    "            temp = temp // 10\n",
    "        return (sum_ == input_num)\n",
    "    \n",
    "    except ValueError as e:\n",
    "        print (f\"Error:  {e} \\nPlease provide positive number. \")\n",
    "    \n",
    "    except Exception as e:\n",
    "        return f\"Integer input Required. Error: {e}\"\n",
    "\n",
    "    \n",
    "def printArmStrong(lower, upper):\n",
    "    \"\"\"\n",
    "    Function to print the ArmStrong Number in the range\n",
    "    Inputs:\n",
    "            lower : int\n",
    "            upper : int\n",
    "    Returns: ArmStrong number in the range\n",
    "    \"\"\"\n",
    "    \n",
    "    try:\n",
    "        # Checking the type of the input provided by user.\n",
    "        if((type(upper) == int) and (type(lower) == int)):\n",
    "\n",
    "            if (upper > lower):\n",
    "                flag = False\n",
    "                for num in range(lower, upper):\n",
    "                    if isArmstrong(num):\n",
    "                        flag = True\n",
    "                        print(num)\n",
    "            else:\n",
    "                raise ValueError\n",
    "\n",
    "            if (flag == False):\n",
    "                print(\"There are no Armstrong Number in the provided range\")\n",
    "        else:\n",
    "            raise TypeError\n",
    "    \n",
    "    except TypeError:\n",
    "        print(f\"Error: Invalid Inputs.\"\n",
    "              f\" \\nRequired Integer inputs.\"\n",
    "              f\" \\nProvided printArmStrong({type(lower)},{type(upper)})\")\n",
    "    except ValueError:\n",
    "        print(f\"Required lower < upper of function printArmStroung(upper, lower) \")\n",
    "    except Exception as e:\n",
    "        print(f\"Error: {e}\")"
   ]
  },
  {
   "cell_type": "code",
   "execution_count": 178,
   "metadata": {},
   "outputs": [
    {
     "name": "stdout",
     "output_type": "stream",
     "text": [
      "153\n",
      "370\n",
      "371\n",
      "407\n"
     ]
    }
   ],
   "source": [
    "printArmStrong(100, 1000)"
   ]
  },
  {
   "cell_type": "code",
   "execution_count": 179,
   "metadata": {},
   "outputs": [
    {
     "name": "stdout",
     "output_type": "stream",
     "text": [
      "Required lower < upper of function printArmStroung(upper, lower) \n"
     ]
    }
   ],
   "source": [
    "printArmStrong(1000, 10)"
   ]
  },
  {
   "cell_type": "code",
   "execution_count": 180,
   "metadata": {},
   "outputs": [
    {
     "name": "stdout",
     "output_type": "stream",
     "text": [
      "Error: Invalid Inputs. \n",
      "Required Integer inputs. \n",
      "Provided printArmStrong(<class 'int'>,<class 'str'>)\n"
     ]
    }
   ],
   "source": [
    "printArmStrong(100, \"1000\")"
   ]
  },
  {
   "cell_type": "markdown",
   "metadata": {},
   "source": [
    "### 6.\tWrite a Python Program to Find the Sum of Natural Numbers?"
   ]
  },
  {
   "cell_type": "code",
   "execution_count": 192,
   "metadata": {},
   "outputs": [
    {
     "data": {
      "text/plain": [
       "1.5209567545525315"
      ]
     },
     "execution_count": 192,
     "metadata": {},
     "output_type": "execute_result"
    }
   ],
   "source": []
  },
  {
   "cell_type": "code",
   "execution_count": null,
   "metadata": {},
   "outputs": [],
   "source": []
  }
 ],
 "metadata": {
  "kernelspec": {
   "display_name": "Python 3",
   "language": "python",
   "name": "python3"
  },
  "language_info": {
   "codemirror_mode": {
    "name": "ipython",
    "version": 3
   },
   "file_extension": ".py",
   "mimetype": "text/x-python",
   "name": "python",
   "nbconvert_exporter": "python",
   "pygments_lexer": "ipython3",
   "version": "3.6.9"
  }
 },
 "nbformat": 4,
 "nbformat_minor": 4
}
