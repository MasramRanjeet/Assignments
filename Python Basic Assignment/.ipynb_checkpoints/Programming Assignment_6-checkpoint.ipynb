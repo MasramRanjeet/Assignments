{
 "cells": [
  {
   "cell_type": "markdown",
   "metadata": {},
   "source": [
    "## Programming Assignment_6\n",
    "\n",
    "1.\tWrite a Python Program to Display Fibonacci Sequence Using Recursion?\n",
    "2.\tWrite a Python Program to Find Factorial of Number Using Recursion?\n",
    "3.\tWrite a Python Program to calculate your Body Mass Index?\n",
    "4.\tWrite a Python Program to calculate the natural logarithm of any number?\n",
    "5.\tWrite a Python Program for cube sum of first n natural numbers?\n"
   ]
  },
  {
   "cell_type": "markdown",
   "metadata": {},
   "source": [
    "### 1.\tWrite a Python Program to Display Fibonacci Sequence Using Recursion?"
   ]
  },
  {
   "cell_type": "code",
   "execution_count": 1,
   "metadata": {},
   "outputs": [],
   "source": [
    "# 1.\tWrite a Python Program to Display Fibonacci Sequence Using Recursion?\n",
    "\n",
    "# the sequence Fn of Fibonacci numbers is defined by the recurrence relation \n",
    "# Fn = Fn-1 + Fn-2\n",
    "# with seed values\n",
    "# F0 = 0 and F1 = 1.\n",
    "\n",
    "def Fibonacci(num):\n",
    "    \"\"\"\n",
    "    function returns the fibonacci of the num\n",
    "    param:\n",
    "        num : int\n",
    "    \"\"\"\n",
    "    try:\n",
    "        # Checking Type of input\n",
    "        if (type(num) == int):\n",
    "            \n",
    "            # Raising ValueError in case of negative inputs\n",
    "            if (num<0) :\n",
    "                raise ValueError\n",
    "\n",
    "            elif (num==0) :\n",
    "                return 0\n",
    "\n",
    "            elif ((num==1) or (num==2)) :\n",
    "                return 1\n",
    "\n",
    "            else:\n",
    "                return Fibonacci(num-1) + Fibonacci(num-2)\n",
    "        \n",
    "        # Raising TypeError if input is not integer\n",
    "        else:\n",
    "            raise TypeError\n",
    "\n",
    "    except ValueError as e:\n",
    "        print (\"ValueError: Incorrect Input. Positive number required.\")\n",
    "        \n",
    "    except TypeError as e:\n",
    "        print (\"TypeError: Incorrect Input. Positive number required.\")        \n",
    "        \n",
    "    except Exception as e:\n",
    "        print (f\"Error: {e}\")"
   ]
  },
  {
   "cell_type": "code",
   "execution_count": 2,
   "metadata": {},
   "outputs": [
    {
     "data": {
      "text/plain": [
       "34"
      ]
     },
     "execution_count": 2,
     "metadata": {},
     "output_type": "execute_result"
    }
   ],
   "source": [
    "Fibonacci(9)"
   ]
  },
  {
   "cell_type": "markdown",
   "metadata": {},
   "source": [
    "### 2.\tWrite a Python Program to Find Factorial of Number Using Recursion?"
   ]
  },
  {
   "cell_type": "code",
   "execution_count": 3,
   "metadata": {},
   "outputs": [],
   "source": [
    "# 2.\tWrite a Python Program to Find Factorial of Number Using Recursion?\n",
    "\n",
    "def Factorial(num):\n",
    "    \n",
    "    \"\"\"\n",
    "    returns factorial of num\n",
    "    params:\n",
    "        num : int \n",
    "    \"\"\"\n",
    "    try:\n",
    "        \n",
    "        if(type(num)==int):\n",
    "            \n",
    "            if (num>=0) :\n",
    "                \n",
    "                if ((num == 0) or (num == 1)):\n",
    "                    return 1\n",
    "                \n",
    "                else:\n",
    "                    return Factorial(num-1) * num\n",
    "        \n",
    "            else:\n",
    "                raise ValueError\n",
    "                \n",
    "        else:\n",
    "            raise TypeError\n",
    "            \n",
    "    except TypeError as e:\n",
    "        print(f\"TypeError:  Invalid input. Required integer number\")\n",
    "            \n",
    "    except ValueError as e:\n",
    "        print(f\"Error: factorial() not defined for negative values\")\n",
    "    \n",
    "    except Exception as e:\n",
    "        print(f\"Error: {e}\")"
   ]
  },
  {
   "cell_type": "code",
   "execution_count": 4,
   "metadata": {},
   "outputs": [
    {
     "data": {
      "text/plain": [
       "120"
      ]
     },
     "execution_count": 4,
     "metadata": {},
     "output_type": "execute_result"
    }
   ],
   "source": [
    "Factorial(5)"
   ]
  },
  {
   "cell_type": "code",
   "execution_count": 5,
   "metadata": {},
   "outputs": [
    {
     "name": "stdout",
     "output_type": "stream",
     "text": [
      "TypeError:  Invalid input. Required integer number\n"
     ]
    }
   ],
   "source": [
    "Factorial(\"a\")"
   ]
  },
  {
   "cell_type": "code",
   "execution_count": 6,
   "metadata": {},
   "outputs": [
    {
     "name": "stdout",
     "output_type": "stream",
     "text": [
      "Error: factorial() not defined for negative values\n"
     ]
    }
   ],
   "source": [
    "Factorial(-1)"
   ]
  },
  {
   "cell_type": "markdown",
   "metadata": {},
   "source": [
    "### 3.\tWrite a Python Program to calculate your Body Mass Index?"
   ]
  },
  {
   "cell_type": "code",
   "execution_count": 7,
   "metadata": {},
   "outputs": [],
   "source": [
    "# 3.\tWrite a Python Program to calculate your Body Mass Index?\n",
    "\n",
    "def BMI(height, weight):\n",
    "    \"\"\"\n",
    "    function returns BMI\n",
    "    param:\n",
    "        height : kg\n",
    "        weight : meters\n",
    "    \"\"\"\n",
    "    try:\n",
    "        \n",
    "        if ((type(height) in (int, float)) and (type(weight) in (int, float))) :\n",
    "            bmi = weight / (height**2)\n",
    "            return bmi\n",
    "        \n",
    "        else:\n",
    "            raise TypeError\n",
    "    \n",
    "    except TypeError as e:\n",
    "        print(f\"TypeError: Expected integer/Float . Provided(BMI({height}, {weight}))\")\n",
    "        \n",
    "    except Exception as e:\n",
    "        print(f\"Error: {e}\")\n",
    "        "
   ]
  },
  {
   "cell_type": "code",
   "execution_count": 8,
   "metadata": {},
   "outputs": [
    {
     "data": {
      "text/plain": [
       "31.14186851211073"
      ]
     },
     "execution_count": 8,
     "metadata": {},
     "output_type": "execute_result"
    }
   ],
   "source": [
    "BMI(1.7, 90)"
   ]
  },
  {
   "cell_type": "markdown",
   "metadata": {},
   "source": [
    "### 4.\tWrite a Python Program to calculate the natural logarithm of any number?"
   ]
  },
  {
   "cell_type": "code",
   "execution_count": 9,
   "metadata": {},
   "outputs": [],
   "source": [
    "# 4.\tWrite a Python Program to calculate the natural logarithm of any number?\n",
    "\n",
    "import math\n",
    "\n",
    "def natural_log(num):\n",
    "    \n",
    "    try:\n",
    "        log_ = math.log(num)\n",
    "        return log_\n",
    "    \n",
    "    except Exception as e:\n",
    "        print(f\"Error: {e}\")"
   ]
  },
  {
   "cell_type": "code",
   "execution_count": 10,
   "metadata": {},
   "outputs": [
    {
     "data": {
      "text/plain": [
       "2.302585092994046"
      ]
     },
     "execution_count": 10,
     "metadata": {},
     "output_type": "execute_result"
    }
   ],
   "source": [
    "natural_log(10)"
   ]
  },
  {
   "cell_type": "markdown",
   "metadata": {},
   "source": [
    "### 5.\tWrite a Python Program for cube sum of first n natural numbers?"
   ]
  },
  {
   "cell_type": "code",
   "execution_count": 11,
   "metadata": {},
   "outputs": [],
   "source": [
    "# 5.\tWrite a Python Program for cube sum of first n natural numbers?\n",
    "\n",
    "def cube_sum_natural_num(num):\n",
    "    \"\"\"\n",
    "    returns cube sum of first n natural numbers\n",
    "    \"\"\"\n",
    "    sum = 0\n",
    "    try:\n",
    "        \n",
    "        for i in range(1, num+1):\n",
    "            sum += i**3\n",
    "            \n",
    "        return sum\n",
    "    \n",
    "    except Exception as e:\n",
    "        print(\"Error: {e}\")"
   ]
  },
  {
   "cell_type": "code",
   "execution_count": 12,
   "metadata": {},
   "outputs": [
    {
     "data": {
      "text/plain": [
       "36"
      ]
     },
     "execution_count": 12,
     "metadata": {},
     "output_type": "execute_result"
    }
   ],
   "source": [
    "cube_sum_natural_num(3)"
   ]
  },
  {
   "cell_type": "code",
   "execution_count": null,
   "metadata": {},
   "outputs": [],
   "source": []
  }
 ],
 "metadata": {
  "kernelspec": {
   "display_name": "Python 3",
   "language": "python",
   "name": "python3"
  },
  "language_info": {
   "codemirror_mode": {
    "name": "ipython",
    "version": 3
   },
   "file_extension": ".py",
   "mimetype": "text/x-python",
   "name": "python",
   "nbconvert_exporter": "python",
   "pygments_lexer": "ipython3",
   "version": "3.8.3"
  }
 },
 "nbformat": 4,
 "nbformat_minor": 4
}
