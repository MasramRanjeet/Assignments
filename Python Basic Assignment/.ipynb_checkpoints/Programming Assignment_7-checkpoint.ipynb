{
 "cells": [
  {
   "cell_type": "markdown",
   "metadata": {},
   "source": [
    "## Programming Assignment_7\n",
    "\n",
    "1.\tWrite a Python Program to find sum of array?\n",
    "2.\tWrite a Python Program to find largest element in an array?\n",
    "3.\tWrite a Python Program for array rotation?\n",
    "4.\tWrite a Python Program to Split the array and add the first part to the end?\n",
    "5.\tWrite a Python Program to check if given array is Monotonic?\n",
    "\t\n"
   ]
  },
  {
   "cell_type": "markdown",
   "metadata": {},
   "source": [
    "### 1.\tWrite a Python Program to find sum of array?"
   ]
  },
  {
   "cell_type": "code",
   "execution_count": 1,
   "metadata": {},
   "outputs": [],
   "source": [
    "# 1.\tWrite a Python Program to find sum of array?\n",
    "def array_sum(arr1):\n",
    "    \"\"\"\n",
    "    function return sum of arr\n",
    "    params:\n",
    "        arr1 : array\n",
    "    \"\"\"\n",
    "    sum_ = 0\n",
    "    try:\n",
    "        for i in arr1:\n",
    "            sum_ += i\n",
    "        return sum_    \n",
    "    except Exception as e:\n",
    "        return f\"Error: {e}\"\n",
    "    \n",
    "    "
   ]
  },
  {
   "cell_type": "code",
   "execution_count": 2,
   "metadata": {},
   "outputs": [
    {
     "data": {
      "text/plain": [
       "\"Error: unsupported operand type(s) for +=: 'int' and 'str'\""
      ]
     },
     "execution_count": 2,
     "metadata": {},
     "output_type": "execute_result"
    }
   ],
   "source": [
    "array_sum([20,\"40\",50])"
   ]
  },
  {
   "cell_type": "code",
   "execution_count": 3,
   "metadata": {},
   "outputs": [
    {
     "data": {
      "text/plain": [
       "150"
      ]
     },
     "execution_count": 3,
     "metadata": {},
     "output_type": "execute_result"
    }
   ],
   "source": [
    "a = [10, 20, 30, 40, 50]\n",
    "array_sum(a)"
   ]
  },
  {
   "cell_type": "markdown",
   "metadata": {},
   "source": [
    "### 2.\tWrite a Python Program to find largest element in an array?"
   ]
  },
  {
   "cell_type": "code",
   "execution_count": 4,
   "metadata": {},
   "outputs": [],
   "source": [
    "def find_largest(arr):\n",
    "    \"\"\"\n",
    "    function returns the largest element in an array\n",
    "    \"\"\"\n",
    "    try:\n",
    "        largest = arr[0]\n",
    "        for i in arr:\n",
    "            if i > largest:\n",
    "                largest = i\n",
    "        return largest\n",
    "    except Exception as e:\n",
    "        return f\"Error: {e}\""
   ]
  },
  {
   "cell_type": "code",
   "execution_count": 5,
   "metadata": {},
   "outputs": [
    {
     "data": {
      "text/plain": [
       "5"
      ]
     },
     "execution_count": 5,
     "metadata": {},
     "output_type": "execute_result"
    }
   ],
   "source": [
    "arr = [3,4,5]\n",
    "find_largest(arr)"
   ]
  },
  {
   "cell_type": "code",
   "execution_count": 6,
   "metadata": {},
   "outputs": [
    {
     "data": {
      "text/plain": [
       "\"Error: '>' not supported between instances of 'int' and 'str'\""
      ]
     },
     "execution_count": 6,
     "metadata": {},
     "output_type": "execute_result"
    }
   ],
   "source": [
    "arr = [\"a\",1,\"ca\"]\n",
    "find_largest(arr)"
   ]
  },
  {
   "cell_type": "markdown",
   "metadata": {},
   "source": [
    "### 3.\tWrite a Python Program for array rotation?"
   ]
  },
  {
   "cell_type": "code",
   "execution_count": 7,
   "metadata": {},
   "outputs": [],
   "source": [
    "def array_rotation(arr, shift_by):\n",
    "    \"\"\"\n",
    "    array_rotation(arr, disp)\n",
    "    param:\n",
    "        arr : input array\n",
    "        disp: number of shift in array for left rotation \n",
    "        \n",
    "        e.g.\n",
    "        Input arr[] = [1, 2, 3, 4, 5, 6, 7], shift_by = 3\n",
    "        \n",
    "        1) Store shift_by elements in a temp array\n",
    "        temp[] = [1, 2, 3]\n",
    "        \n",
    "        2) Shift rest of the arr[]\n",
    "        arr[] = [4, 5, 6, 7, 5, 6, 7]\n",
    "        \n",
    "        3) Store back the d elements\n",
    "        arr[] = [4, 5, 6, 7, 1, 2, 3]\n",
    "    \"\"\"\n",
    "\n",
    "    try:\n",
    "        #calculating length of input array\n",
    "        len_ = len(arr)\n",
    "        # creating an empty array temp\n",
    "        temp = []\n",
    "        i = 0\n",
    "        \n",
    "        # adding initial elements of input array till input shift to temp array \n",
    "        # Storing shift_by elements in a temp array\n",
    "        while(i < shift_by):\n",
    "            temp.append(arr[i])\n",
    "            i = i + 1\n",
    "        \n",
    "        # replacing the elements of original elements\n",
    "        # Shift rest of the arr[]\n",
    "        i = 0\n",
    "        while(shift_by < len_):\n",
    "            arr[i] = arr[shift_by]\n",
    "            i = i + 1\n",
    "            shift_by = shift_by + 1\n",
    "        \n",
    "        # Store back the d elements\n",
    "        arr[:] = arr[:i] + temp\n",
    "        \n",
    "        return arr\n",
    "        \n",
    "    except Exception as e:\n",
    "        return f\"Error: s{e}\"\n",
    "        "
   ]
  },
  {
   "cell_type": "code",
   "execution_count": 8,
   "metadata": {
    "scrolled": true
   },
   "outputs": [
    {
     "data": {
      "text/plain": [
       "[4, 5, 6, 7, 1, 2, 3]"
      ]
     },
     "execution_count": 8,
     "metadata": {},
     "output_type": "execute_result"
    }
   ],
   "source": [
    "arr = [1,2,3,4,5,6,7]\n",
    "array_rotation(arr, 3)"
   ]
  },
  {
   "cell_type": "markdown",
   "metadata": {},
   "source": [
    "### 4.\tWrite a Python Program to Split the array and add the first part to the end?"
   ]
  },
  {
   "cell_type": "code",
   "execution_count": 9,
   "metadata": {},
   "outputs": [],
   "source": [
    "# 4.\tWrite a Python Program to Split the array and add the first part to the end?\n",
    "def split_Array(arr, index):\n",
    "    \"\"\"\n",
    "    split_Array(arr, index)\n",
    "    param:\n",
    "        arr: array\n",
    "        index: index for spliting the array. index location start from 0.\n",
    "    \"\"\"\n",
    "    try:\n",
    "        \n",
    "        temp = arr[: index + 1]\n",
    "        arr = arr[index + 1: ] + temp[ : ]\n",
    "        return arr\n",
    "    \n",
    "    except Exception as e:\n",
    "        return f\"Error: {e}\""
   ]
  },
  {
   "cell_type": "code",
   "execution_count": 10,
   "metadata": {},
   "outputs": [
    {
     "data": {
      "text/plain": [
       "[5, 6, 7, 1, 2, 3, 4]"
      ]
     },
     "execution_count": 10,
     "metadata": {},
     "output_type": "execute_result"
    }
   ],
   "source": [
    "split_Array([1, 2, 3, 4, 5, 6, 7], 3)"
   ]
  },
  {
   "cell_type": "markdown",
   "metadata": {},
   "source": [
    "### 5.\tWrite a Python Program to check if given array is Monotonic?"
   ]
  },
  {
   "cell_type": "code",
   "execution_count": 11,
   "metadata": {},
   "outputs": [],
   "source": [
    "# 5.\tWrite a Python Program to check if given array is Monotonic?\n",
    "\n",
    "def isMonotonic(arr):\n",
    "    \"\"\"\n",
    "    isMonotonic(arr):\n",
    "    Param:\n",
    "        arr : int array\n",
    "        returns True if arr is monotone increasing, or monotone decreasing. \n",
    "    \"\"\"\n",
    "    try:  \n",
    "        # checking if all the elements are monotone increasing\n",
    "        return (all(arr[i] <= arr[i + 1] for i in range(len(arr) - 1)) or\n",
    "                # checking if all the elements are monotone decreasing\n",
    "                all(arr[i] >= arr[i + 1] for i in range(len(arr) - 1)))\n",
    "    \n",
    "    except Exception as e:\n",
    "        return f\"Error: {e}\""
   ]
  },
  {
   "cell_type": "code",
   "execution_count": 12,
   "metadata": {},
   "outputs": [
    {
     "data": {
      "text/plain": [
       "True"
      ]
     },
     "execution_count": 12,
     "metadata": {},
     "output_type": "execute_result"
    }
   ],
   "source": [
    "isMonotonic([5,4,2,2,1])"
   ]
  },
  {
   "cell_type": "code",
   "execution_count": 13,
   "metadata": {},
   "outputs": [
    {
     "data": {
      "text/plain": [
       "True"
      ]
     },
     "execution_count": 13,
     "metadata": {},
     "output_type": "execute_result"
    }
   ],
   "source": [
    "isMonotonic([1, 2, 4, 5])"
   ]
  },
  {
   "cell_type": "code",
   "execution_count": 14,
   "metadata": {},
   "outputs": [
    {
     "data": {
      "text/plain": [
       "\"Error: '<=' not supported between instances of 'str' and 'int'\""
      ]
     },
     "execution_count": 14,
     "metadata": {},
     "output_type": "execute_result"
    }
   ],
   "source": [
    "isMonotonic([\"a\", 1, 2, 4])"
   ]
  },
  {
   "cell_type": "code",
   "execution_count": null,
   "metadata": {},
   "outputs": [],
   "source": []
  }
 ],
 "metadata": {
  "kernelspec": {
   "display_name": "Python 3",
   "language": "python",
   "name": "python3"
  },
  "language_info": {
   "codemirror_mode": {
    "name": "ipython",
    "version": 3
   },
   "file_extension": ".py",
   "mimetype": "text/x-python",
   "name": "python",
   "nbconvert_exporter": "python",
   "pygments_lexer": "ipython3",
   "version": "3.8.3"
  }
 },
 "nbformat": 4,
 "nbformat_minor": 4
}
