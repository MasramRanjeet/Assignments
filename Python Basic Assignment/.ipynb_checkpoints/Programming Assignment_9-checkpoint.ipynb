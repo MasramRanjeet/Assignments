{
 "cells": [
  {
   "cell_type": "markdown",
   "metadata": {},
   "source": [
    "## Programming Assignment_9\n",
    "\n",
    "1.\tWrite a Python program to check if the given number is a Disarium Number?\n",
    "2.\tWrite a Python program to print all disarium numbers between 1 to 100?\n",
    "3.\tWrite a Python program to check if the given number is Happy Number?\n",
    "4.\tWrite a Python program to print all happy numbers between 1 and 100?\n",
    "5.\tWrite a Python program to determine whether the given number is a Harshad Number?\n",
    "6.\tWrite a Python program to print all pronic numbers between 1 and 100?\n"
   ]
  },
  {
   "cell_type": "markdown",
   "metadata": {},
   "source": [
    "### 1.\tWrite a Python program to check if the given number is a Disarium Number?\n"
   ]
  },
  {
   "cell_type": "code",
   "execution_count": 1,
   "metadata": {},
   "outputs": [],
   "source": [
    "# 1.\tWrite a Python program to check if the given number is a Disarium Number?\n",
    "\n",
    "'''\n",
    "A number is called Disarium if sum of its digits powered with their respective\n",
    "positions is equal to the number itself.\n",
    "E.g.\n",
    "\n",
    "Input   : n = 135\n",
    "Output  : Yes \n",
    "1^1 + 3^2 + 5^3 = 135\n",
    "Therefore, 135 is a Disarium number\n",
    "\n",
    "Input   : n = 89\n",
    "Output  : Yes \n",
    "8^1+9^2 = 89\n",
    "Therefore, 89 is a Disarium number\n",
    "\n",
    "Input   : n = 80\n",
    "Output  : No\n",
    "8^1 + 0^2 = 8\n",
    "'''\n",
    "\n",
    "import math\n",
    "\n",
    "\n",
    "def check_Disarium(num):\n",
    "    \"\"\"\n",
    "    check_Disarium(num)\n",
    "    Param:\n",
    "        num:int\n",
    "    requires an integer number as an input and checks if the number is Disarium Number\n",
    "    \"\"\"\n",
    "    \n",
    "    try:\n",
    "        \n",
    "        if (type(num)==int):\n",
    "            \n",
    "            count_digits = len(str(num))\n",
    "            sum_ = 0\n",
    "            temp = num\n",
    "            \n",
    "            while(temp!=0):\n",
    "                \n",
    "                result = temp%10\n",
    "                sum_ = int(sum_ + math.pow(result, count_digits))\n",
    "                count_digits = count_digits - 1\n",
    "                temp = int(temp/10)\n",
    "                \n",
    "            if (sum_ == num):\n",
    "                return True\n",
    "            else:\n",
    "                return False\n",
    "        \n",
    "        else:\n",
    "            raise TypeError\n",
    "    \n",
    "    except TypeError as e:\n",
    "        return f\"ValueError : Interger input required\"\n",
    "    except Exception as e:\n",
    "        return f\"Error: {e}\"\n",
    "    \n",
    "    \n"
   ]
  },
  {
   "cell_type": "code",
   "execution_count": 2,
   "metadata": {},
   "outputs": [
    {
     "data": {
      "text/plain": [
       "True"
      ]
     },
     "execution_count": 2,
     "metadata": {},
     "output_type": "execute_result"
    }
   ],
   "source": [
    "check_Disarium(135)"
   ]
  },
  {
   "cell_type": "code",
   "execution_count": 3,
   "metadata": {},
   "outputs": [
    {
     "data": {
      "text/plain": [
       "False"
      ]
     },
     "execution_count": 3,
     "metadata": {},
     "output_type": "execute_result"
    }
   ],
   "source": [
    "check_Disarium(167)"
   ]
  },
  {
   "cell_type": "markdown",
   "metadata": {},
   "source": [
    "### 2.\tWrite a Python program to print all disarium numbers between 1 to 100?"
   ]
  },
  {
   "cell_type": "code",
   "execution_count": 4,
   "metadata": {},
   "outputs": [],
   "source": [
    "# 2.\tWrite a Python program to print all disarium numbers between 1 to 100?\n",
    "\n",
    "import math\n",
    "\n",
    "def check_Disarium(start_num, end_num):\n",
    "    \"\"\"\n",
    "    check_Disarium(start_num, end_num)\n",
    "    Param:\n",
    "        start_num:int\n",
    "        end_num: int\n",
    "    prints Disarium Number between start_num and end_num including start_num\n",
    "    \"\"\"\n",
    "    \n",
    "    try:\n",
    "        \n",
    "        if (type(start_num) == int  and type(end_num) == int):\n",
    "            \n",
    "            for num in range (start_num, end_num): \n",
    "                count_digits = len(str(num))\n",
    "                sum_ = 0\n",
    "                temp = num\n",
    "\n",
    "                while(temp!=0):\n",
    "\n",
    "                    result = temp%10\n",
    "                    sum_ = int(sum_ + math.pow(result, count_digits))\n",
    "                    count_digits = count_digits - 1\n",
    "                    temp = int(temp/10)\n",
    "\n",
    "                if (sum_ == num):\n",
    "                    print(num)\n",
    "        \n",
    "        else:\n",
    "            raise TypeError\n",
    "    \n",
    "    except TypeError as e:\n",
    "        print(f\"ValueError : Interger input required\")\n",
    "    except Exception as e:\n",
    "        print(f\"Error: {e}\")\n",
    "    \n",
    "    \n"
   ]
  },
  {
   "cell_type": "code",
   "execution_count": 5,
   "metadata": {},
   "outputs": [
    {
     "name": "stdout",
     "output_type": "stream",
     "text": [
      "1\n",
      "2\n",
      "3\n",
      "4\n",
      "5\n",
      "6\n",
      "7\n",
      "8\n",
      "9\n",
      "89\n"
     ]
    }
   ],
   "source": [
    "check_Disarium(1,100)"
   ]
  },
  {
   "cell_type": "markdown",
   "metadata": {},
   "source": [
    "### 3.\tWrite a Python program to check if the given number is Happy Number?"
   ]
  },
  {
   "cell_type": "code",
   "execution_count": 6,
   "metadata": {},
   "outputs": [],
   "source": [
    "# 3.\tWrite a Python program to check if the given number is Happy Number?\n",
    "\n",
    "'''\n",
    "A number is called happy if it leads to 1 after a sequence of steps wherein each\n",
    "step number is replaced by the sum of squares of its digit that is if we start with\n",
    "Happy Number and keep replacing it with digits square sum, we reach 1. \n",
    "\n",
    "E.g.\n",
    "Input: n = 19\n",
    "Output: True\n",
    "19 is Happy Number,\n",
    "1^2 + 9^2 = 82\n",
    "8^2 + 2^2 = 68\n",
    "6^2 + 8^2 = 100\n",
    "1^2 + 0^2 + 0^2 = 1\n",
    "As we reached to 1, 19 is a Happy Number.\n",
    "\n",
    "Input: n = 20\n",
    "Output: False\n",
    "'''\n",
    "\n",
    "import math\n",
    "\n",
    "def sum_of_sq_of_digits(num):\n",
    "    \"\"\"\n",
    "    function returns sum of squares of digit of number\n",
    "    \"\"\"\n",
    "    try:\n",
    "        \n",
    "        sum_ = 0\n",
    "        temp = num\n",
    "        \n",
    "        while(temp!=0): \n",
    "            result = temp%10\n",
    "            sum_ = sum_ + math.pow(result,2)\n",
    "            temp = int(temp/10)\n",
    "            \n",
    "        print(int(sum_))\n",
    "        return int(sum_)\n",
    "    \n",
    "    except Exception as e:\n",
    "        return e\n",
    "\n",
    "\n",
    "def isHappyNumber(num):\n",
    "    \"\"\"\n",
    "    check if the number is happy Number\n",
    "    \"\"\"\n",
    "    try:\n",
    "        if(type(num)==int):\n",
    "            \n",
    "            # checking sum of sq of digits till single digit is left. \n",
    "            # If the single digit is 1 it is happy number else it is not happy number\n",
    "            while (num!=1 and len(str(num))!=1):\n",
    "                num = sum_of_sq_of_digits(num)\n",
    "            \n",
    "            if num == 1:\n",
    "                return True\n",
    "            \n",
    "            else:\n",
    "                return False\n",
    "            \n",
    "        else:\n",
    "            raise TypeError\n",
    "            \n",
    "        \n",
    "    except TypeError as e:\n",
    "        return f\"TypeError: Integer number expected\"\n",
    "        \n",
    "    except Exception as e:\n",
    "        return f\"Error: {e}\"\n"
   ]
  },
  {
   "cell_type": "code",
   "execution_count": 7,
   "metadata": {},
   "outputs": [
    {
     "name": "stdout",
     "output_type": "stream",
     "text": [
      "82\n",
      "68\n",
      "100\n",
      "1\n"
     ]
    },
    {
     "data": {
      "text/plain": [
       "True"
      ]
     },
     "execution_count": 7,
     "metadata": {},
     "output_type": "execute_result"
    }
   ],
   "source": [
    "isHappyNumber(19)"
   ]
  },
  {
   "cell_type": "code",
   "execution_count": 8,
   "metadata": {},
   "outputs": [
    {
     "name": "stdout",
     "output_type": "stream",
     "text": [
      "10\n",
      "1\n"
     ]
    },
    {
     "data": {
      "text/plain": [
       "True"
      ]
     },
     "execution_count": 8,
     "metadata": {},
     "output_type": "execute_result"
    }
   ],
   "source": [
    "isHappyNumber(13)"
   ]
  },
  {
   "cell_type": "code",
   "execution_count": 9,
   "metadata": {},
   "outputs": [
    {
     "name": "stdout",
     "output_type": "stream",
     "text": [
      "65\n",
      "61\n",
      "37\n",
      "58\n",
      "89\n",
      "145\n",
      "42\n",
      "20\n",
      "4\n"
     ]
    },
    {
     "data": {
      "text/plain": [
       "False"
      ]
     },
     "execution_count": 9,
     "metadata": {},
     "output_type": "execute_result"
    }
   ],
   "source": [
    "isHappyNumber(81)"
   ]
  },
  {
   "cell_type": "markdown",
   "metadata": {},
   "source": [
    "### 4.\tWrite a Python program to print all happy numbers between 1 and 100?"
   ]
  },
  {
   "cell_type": "code",
   "execution_count": 10,
   "metadata": {},
   "outputs": [],
   "source": [
    "# 4.\tWrite a Python program to print all happy numbers between 1 and 100?\n",
    "\n",
    "import math\n",
    "\n",
    "def sum_of_sq_of_digits(num):\n",
    "    \"\"\"\n",
    "    function returns sum of squares of digit of number\n",
    "    \"\"\"\n",
    "    try:\n",
    "        \n",
    "        sum_ = 0\n",
    "        temp = num\n",
    "        \n",
    "        while(temp!=0): \n",
    "            result = temp%10\n",
    "            sum_ = sum_ + math.pow(result,2)\n",
    "            temp = int(temp/10)\n",
    "            \n",
    "        # print(int(sum_))\n",
    "        return int(sum_)\n",
    "    \n",
    "    except Exception as e:\n",
    "        return e\n",
    "\n",
    "\n",
    "def get_HappyNumber_between(lower_num, upper_num):\n",
    "    \"\"\"\n",
    "    print HappyNumber Between a range\n",
    "    \"\"\"\n",
    "    try:\n",
    "        if(type(lower_num)==int and type(upper_num)==int):\n",
    "            \n",
    "            # checking sum of sq of digits till single digit is left. \n",
    "            # If the single digit is 1 it is happy number else it is not happy number\n",
    "            for num in range(lower_num, upper_num+1):\n",
    "                temp = num\n",
    "                while (num!=1 and len(str(num))!=1):\n",
    "                    num = sum_of_sq_of_digits(num)\n",
    "\n",
    "                if num == 1:\n",
    "                    print(temp)\n",
    "            \n",
    "        else:\n",
    "            raise TypeError\n",
    "            \n",
    "        \n",
    "    except TypeError as e:\n",
    "        return f\"TypeError: Integer number expected\"\n",
    "        \n",
    "    except Exception as e:\n",
    "        return f\"Error: {e}\"\n",
    "\n"
   ]
  },
  {
   "cell_type": "code",
   "execution_count": 11,
   "metadata": {},
   "outputs": [
    {
     "name": "stdout",
     "output_type": "stream",
     "text": [
      "1\n",
      "10\n",
      "13\n",
      "19\n",
      "23\n",
      "28\n",
      "31\n",
      "32\n",
      "44\n",
      "49\n",
      "68\n",
      "70\n",
      "79\n",
      "82\n",
      "86\n",
      "91\n",
      "94\n",
      "97\n",
      "100\n"
     ]
    }
   ],
   "source": [
    "get_HappyNumber_between(1,100)"
   ]
  },
  {
   "cell_type": "markdown",
   "metadata": {},
   "source": [
    "### 5.\tWrite a Python program to determine whether the given number is a Harshad Number?\n"
   ]
  },
  {
   "cell_type": "code",
   "execution_count": 12,
   "metadata": {},
   "outputs": [],
   "source": [
    "# 5.\tWrite a Python program to determine whether the given number is a Harshad Number?\n",
    "\"\"\"\n",
    "An integer number in base 10 which is divisible by the sum of its digits \n",
    "is said to be a Harshad Number. An n-harshad number is an integer number \n",
    "divisible by the sum of its digit in base n.\n",
    "Below are the first few Harshad Numbers represented in base 10:\n",
    "1, 2, 3, 4, 5, 6, 7, 8, 9, 10, 12, 18, 20………\n",
    "\n",
    "Input: 18\n",
    "Output: 18 is a Harshad Number   [18/(1+8)=0]\n",
    "\n",
    "Input: 15\n",
    "Output: 15 is not a Harshad Number\n",
    "\n",
    "\"\"\"\n",
    "def sum_of_digits(num):\n",
    "    \"\"\"\n",
    "    returns sum of digits of number\n",
    "    \"\"\"\n",
    "    try:\n",
    "        sum_ = 0\n",
    "        temp = num\n",
    "\n",
    "        while(temp!=0):\n",
    "\n",
    "            result = temp%10\n",
    "            sum_ = sum_ + result\n",
    "            temp = int(temp/10)\n",
    "    except Exception as e:\n",
    "        return f\"Error: {e}\"\n",
    "        \n",
    "    return int(sum_)\n",
    "\n",
    "def isHarshadNumber(num):\n",
    "    \"\"\"\n",
    "    function check weather number is Harshad Number \n",
    "    \"\"\"\n",
    "    try:\n",
    "        sum_ = 0\n",
    "        sum_ = sum_of_digits(num)\n",
    "        \n",
    "        if (num%sum_ == 0):\n",
    "            return True\n",
    "        else:\n",
    "            return False\n",
    "    \n",
    "    except Exception as e:\n",
    "        return f\"Error:{e}\""
   ]
  },
  {
   "cell_type": "code",
   "execution_count": 13,
   "metadata": {},
   "outputs": [
    {
     "data": {
      "text/plain": [
       "True"
      ]
     },
     "execution_count": 13,
     "metadata": {},
     "output_type": "execute_result"
    }
   ],
   "source": [
    "isHarshadNumber(1)"
   ]
  },
  {
   "cell_type": "code",
   "execution_count": 14,
   "metadata": {},
   "outputs": [
    {
     "data": {
      "text/plain": [
       "False"
      ]
     },
     "execution_count": 14,
     "metadata": {},
     "output_type": "execute_result"
    }
   ],
   "source": [
    "isHarshadNumber(16)"
   ]
  },
  {
   "cell_type": "code",
   "execution_count": 15,
   "metadata": {},
   "outputs": [
    {
     "data": {
      "text/plain": [
       "True"
      ]
     },
     "execution_count": 15,
     "metadata": {},
     "output_type": "execute_result"
    }
   ],
   "source": [
    "isHarshadNumber(18)"
   ]
  },
  {
   "cell_type": "markdown",
   "metadata": {},
   "source": [
    "### 6.\tWrite a Python program to print all pronic numbers between 1 and 100?\n"
   ]
  },
  {
   "cell_type": "code",
   "execution_count": 16,
   "metadata": {},
   "outputs": [],
   "source": [
    "# 6.\tWrite a Python program to print all pronic numbers between 1 and 100?\n",
    "\"\"\"\n",
    "Pronic number is a number which is the product of two consecutive integers, \n",
    "that is, a number n is a product of x and (x+1). The task is to check and \n",
    "print Pronic Numbers in a range\n",
    "\n",
    "Input  : 6\n",
    "Output : Pronic Number\n",
    "Explanation: 6 = 2 * 3 i.e 6 is a product\n",
    "of two consecutive integers 2 and 3.\n",
    "\n",
    "Input :56\n",
    "Output :Pronic Number\n",
    "Explanation: 56 = 7 * 8 i.e 56 is a product \n",
    "of two consecutive integers 7 and 8. \n",
    "\n",
    "\"\"\"\n",
    "\n",
    "import math\n",
    "\n",
    "def pronic_number_between(lower, upper):\n",
    "    \"\"\"\n",
    "    function return pronic number between range\n",
    "    \"\"\"\n",
    "    try:\n",
    "        \n",
    "        for num in range(lower, upper):\n",
    "            \n",
    "            temp = (int)(math.sqrt(num))\n",
    "            \n",
    "            if(num == temp*(temp+1)):\n",
    "                print(num)\n",
    "                \n",
    "    except Exception as e:\n",
    "        \n",
    "        print(f\"Error: {e}\")"
   ]
  },
  {
   "cell_type": "code",
   "execution_count": 17,
   "metadata": {},
   "outputs": [
    {
     "name": "stdout",
     "output_type": "stream",
     "text": [
      "2\n",
      "6\n",
      "12\n",
      "20\n",
      "30\n",
      "42\n",
      "56\n",
      "72\n",
      "90\n"
     ]
    }
   ],
   "source": [
    "pronic_number_between(1,100)"
   ]
  }
 ],
 "metadata": {
  "kernelspec": {
   "display_name": "Python 3",
   "language": "python",
   "name": "python3"
  },
  "language_info": {
   "codemirror_mode": {
    "name": "ipython",
    "version": 3
   },
   "file_extension": ".py",
   "mimetype": "text/x-python",
   "name": "python",
   "nbconvert_exporter": "python",
   "pygments_lexer": "ipython3",
   "version": "3.8.3"
  }
 },
 "nbformat": 4,
 "nbformat_minor": 4
}
