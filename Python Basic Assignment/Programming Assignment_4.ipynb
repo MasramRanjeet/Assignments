{
 "cells": [
  {
   "cell_type": "markdown",
   "metadata": {},
   "source": [
    "## Programming Assignment_4\n",
    "\n",
    "\n",
    "1.\tWrite a Python Program to Find the Factorial of a Number?\n",
    "2.\tWrite a Python Program to Display the multiplication Table?\n",
    "3.\tWrite a Python Program to Print the Fibonacci sequence?\n",
    "4.\tWrite a Python Program to Check Armstrong Number?\n",
    "5.\tWrite a Python Program to Find Armstrong Number in an Interval?\n",
    "6.\tWrite a Python Program to Find the Sum of Natural Numbers?\n",
    "\n"
   ]
  },
  {
   "cell_type": "code",
   "execution_count": 1,
   "metadata": {},
   "outputs": [],
   "source": [
    "#Intellesence in Jupyter Notebook\n",
    "%config IPCompleter.greedy=True\n",
    "%config Completer.use_jedi = False\n"
   ]
  },
  {
   "cell_type": "markdown",
   "metadata": {},
   "source": [
    "### 1.\tWrite a Python Program to Find the Factorial of a Number?"
   ]
  },
  {
   "cell_type": "code",
   "execution_count": 2,
   "metadata": {},
   "outputs": [],
   "source": [
    "# 1.\tWrite a Python Program to Find the Factorial of a Number?\n",
    "\n",
    "#5! = 5*4*3*2*1\n",
    "\n",
    "\n",
    "def factorial(num):\n",
    "    \"\"\"\n",
    "    This Function finds factorial of a number.\n",
    "    Params: \n",
    "        num: int\n",
    "    Returns: Factorial of number\n",
    "    \"\"\"\n",
    "    try:\n",
    "        # checking the type of input \n",
    "        if (type(num) == int):\n",
    "        \n",
    "            # checking in the number is greater than 0\n",
    "            if num >= 0:\n",
    "                \n",
    "                if ((num ==1) or (num==0)):\n",
    "                    return 1\n",
    "                else:\n",
    "                    return num * factorial(num-1)\n",
    "            \n",
    "            # Raising an ValueError in case of negative number\n",
    "            else:\n",
    "                raise ValueError\n",
    "                \n",
    "        # Raising TypeError if input is not integer        \n",
    "        else:\n",
    "            raise TypeError\n",
    "            \n",
    "    except TypeError as e:\n",
    "        print (f\"Error: Invalid input. Required integer number\")\n",
    "    \n",
    "    except ValueError as e:\n",
    "        print (\"Error: factorial() not defined for negative values\")\n",
    "    \n",
    "    except Exception as e:\n",
    "        print (f\"Error {e}\")"
   ]
  },
  {
   "cell_type": "code",
   "execution_count": 3,
   "metadata": {},
   "outputs": [
    {
     "data": {
      "text/plain": [
       "120"
      ]
     },
     "execution_count": 3,
     "metadata": {},
     "output_type": "execute_result"
    }
   ],
   "source": [
    "factorial(5)"
   ]
  },
  {
   "cell_type": "code",
   "execution_count": 4,
   "metadata": {},
   "outputs": [
    {
     "name": "stdout",
     "output_type": "stream",
     "text": [
      "Error: Invalid input. Required integer number\n"
     ]
    }
   ],
   "source": [
    "factorial(4.6)"
   ]
  },
  {
   "cell_type": "code",
   "execution_count": 5,
   "metadata": {},
   "outputs": [
    {
     "name": "stdout",
     "output_type": "stream",
     "text": [
      "Error: Invalid input. Required integer number\n"
     ]
    }
   ],
   "source": [
    "factorial(\"a\")"
   ]
  },
  {
   "cell_type": "code",
   "execution_count": 6,
   "metadata": {},
   "outputs": [
    {
     "name": "stdout",
     "output_type": "stream",
     "text": [
      "Error: factorial() not defined for negative values\n"
     ]
    }
   ],
   "source": [
    "factorial(-1)"
   ]
  },
  {
   "cell_type": "markdown",
   "metadata": {},
   "source": [
    "### 2.\tWrite a Python Program to Display the multiplication Table?"
   ]
  },
  {
   "cell_type": "code",
   "execution_count": 7,
   "metadata": {},
   "outputs": [],
   "source": [
    "# 2.\tWrite a Python Program to Display the multiplication Table?\n",
    "\n",
    "def Multiplication(num):\n",
    "    \"\"\"\n",
    "    This program prints the multiplication Table of number\n",
    "    params:\n",
    "        num: int\n",
    "    \n",
    "    \"\"\"\n",
    "    \n",
    "    try:\n",
    "        if (type(num) == int):\n",
    "            \n",
    "            for i in range(1, 11):\n",
    "                print (f\"{num} * {i} = {num*i}\")\n",
    "                \n",
    "        else:\n",
    "            raise TypeError\n",
    "\n",
    "    except TypeError:\n",
    "        print(f\"Error: Invalid input. \\nRequired Integer. Provided {type(num)}\")\n",
    "        \n",
    "    except Exception as e:\n",
    "        print (f\"Error: {e}\")"
   ]
  },
  {
   "cell_type": "code",
   "execution_count": 8,
   "metadata": {},
   "outputs": [
    {
     "name": "stdout",
     "output_type": "stream",
     "text": [
      "Error: Invalid input. \n",
      "Required Integer. Provided <class 'str'>\n"
     ]
    }
   ],
   "source": [
    "Multiplication(\"22\")"
   ]
  },
  {
   "cell_type": "code",
   "execution_count": 9,
   "metadata": {},
   "outputs": [
    {
     "name": "stdout",
     "output_type": "stream",
     "text": [
      "11 * 1 = 11\n",
      "11 * 2 = 22\n",
      "11 * 3 = 33\n",
      "11 * 4 = 44\n",
      "11 * 5 = 55\n",
      "11 * 6 = 66\n",
      "11 * 7 = 77\n",
      "11 * 8 = 88\n",
      "11 * 9 = 99\n",
      "11 * 10 = 110\n"
     ]
    }
   ],
   "source": [
    "Multiplication(11)"
   ]
  },
  {
   "cell_type": "markdown",
   "metadata": {},
   "source": [
    "### 3.\tWrite a Python Program to Print the Fibonacci sequence?"
   ]
  },
  {
   "cell_type": "code",
   "execution_count": 10,
   "metadata": {},
   "outputs": [],
   "source": [
    "# 3.\tWrite a Python Program to Print the Fibonacci sequence?\n",
    "\n",
    "# the sequence Fn of Fibonacci numbers is defined by the recurrence relation \n",
    "# Fn = Fn-1 + Fn-2\n",
    "# with seed values\n",
    "# F0 = 0 and F1 = 1.\n",
    "\n",
    "def Fibonacci(num):\n",
    "    \"\"\"\n",
    "    function returns the fibonacci of the num\n",
    "    param:\n",
    "        num : int\n",
    "    \"\"\"\n",
    "    try:\n",
    "        # Checking Type of input\n",
    "        if (type(num) == int):\n",
    "            \n",
    "            # Raising ValueError in case of negative inputs\n",
    "            if (num<0) :\n",
    "                raise ValueError\n",
    "\n",
    "            elif (num==0) :\n",
    "                return 0\n",
    "\n",
    "            elif ((num==1) or (num==2)) :\n",
    "                return 1\n",
    "\n",
    "            else:\n",
    "                return Fibonacci(num-1) + Fibonacci(num-2)\n",
    "        \n",
    "        # Raising TypeError if input is not integer\n",
    "        else:\n",
    "            raise TypeError\n",
    "\n",
    "    except ValueError as e:\n",
    "        print (\"ValueError: Incorrect Input. Positive number required.\")\n",
    "        \n",
    "    except TypeError as e:\n",
    "        print (\"TypeError: Incorrect Input. Positive number required.\")        \n",
    "        \n",
    "    except Exception as e:\n",
    "        print (f\"Error: {e}\")\n",
    "    \n",
    "        "
   ]
  },
  {
   "cell_type": "code",
   "execution_count": 11,
   "metadata": {},
   "outputs": [
    {
     "data": {
      "text/plain": [
       "55"
      ]
     },
     "execution_count": 11,
     "metadata": {},
     "output_type": "execute_result"
    }
   ],
   "source": [
    "Fibonacci(10)"
   ]
  },
  {
   "cell_type": "code",
   "execution_count": 12,
   "metadata": {},
   "outputs": [
    {
     "name": "stdout",
     "output_type": "stream",
     "text": [
      "TypeError: Incorrect Input. Positive number required.\n"
     ]
    }
   ],
   "source": [
    "Fibonacci(\"a\")"
   ]
  },
  {
   "cell_type": "code",
   "execution_count": 13,
   "metadata": {},
   "outputs": [
    {
     "name": "stdout",
     "output_type": "stream",
     "text": [
      "ValueError: Incorrect Input. Positive number required.\n"
     ]
    }
   ],
   "source": [
    "Fibonacci(-2)"
   ]
  },
  {
   "cell_type": "markdown",
   "metadata": {},
   "source": [
    "### 4.\tWrite a Python Program to Check Armstrong Number?"
   ]
  },
  {
   "cell_type": "code",
   "execution_count": 14,
   "metadata": {},
   "outputs": [],
   "source": [
    "# 4.\tWrite a Python Program to Check Armstrong Number?\n",
    "\n",
    "# Whatis Armstrong Number\n",
    "# A positive integer of n digits is called an Armstrong number of order n (order is number of digits) if.\n",
    "# abcd... = pow(a,n) + pow(b,n) + pow(c,n) + pow(d,n) + .... \n",
    "# Input : 153\n",
    "# 1*1*1 + 5*5*5 + 3*3*3 = 153\n",
    "# 153 is an Armstrong number.\n",
    "\n",
    "import math\n",
    "\n",
    "# Function returns the order of the number \n",
    "def order(input_num):\n",
    "    n = 0\n",
    "    while (input_num != 0) :\n",
    "        n = n+1\n",
    "        input_num = input_num // 10\n",
    "    return n\n",
    "\n",
    "# Functions checks if the number is Armstrong or Not\n",
    "def isArmstrong(input_num):\n",
    "    \"\"\"\n",
    "    Functions checks if the number is Armstrong or Not\n",
    "    param: \n",
    "        input_num : int\n",
    "    Returns :\n",
    "                True: if the number is Armstrong number\n",
    "                False: if the number is not an Armstrong number\n",
    "    \"\"\"\n",
    "    try:\n",
    "        # Checing type of input_num\n",
    "        if (type(input_num) == int):\n",
    "            \n",
    "            if input_num > 0:\n",
    "                # finding the order on the input number \n",
    "                n = order(input_num)\n",
    "                temp = input_num\n",
    "                sum_ = 0\n",
    "                \n",
    "                while (temp != 0):\n",
    "                    remainder = temp % 10\n",
    "                    sum_ = sum_ + math.pow(remainder , n)\n",
    "                    temp = temp // 10\n",
    "                return (sum_ == input_num)\n",
    "\n",
    "            # Rasing ValueError if input_num is not postive    \n",
    "            else :\n",
    "                raise ValueError \n",
    "        \n",
    "        # Raising Type error if input_num is not integer\n",
    "        else:\n",
    "            raise TypeError\n",
    "    \n",
    "    except TypeError as e:\n",
    "        print (f\"TypeError: Please provide integer number.\")\n",
    "    \n",
    "    except ValueError as e:\n",
    "        print (f\"ValueError: Please provide positive number. \")\n",
    "    \n",
    "    except Exception as e:\n",
    "        print (f\"Error: {e}\")"
   ]
  },
  {
   "cell_type": "code",
   "execution_count": 15,
   "metadata": {},
   "outputs": [
    {
     "data": {
      "text/plain": [
       "True"
      ]
     },
     "execution_count": 15,
     "metadata": {},
     "output_type": "execute_result"
    }
   ],
   "source": [
    "isArmstrong(153)"
   ]
  },
  {
   "cell_type": "code",
   "execution_count": 16,
   "metadata": {},
   "outputs": [
    {
     "data": {
      "text/plain": [
       "False"
      ]
     },
     "execution_count": 16,
     "metadata": {},
     "output_type": "execute_result"
    }
   ],
   "source": [
    "isArmstrong(122)"
   ]
  },
  {
   "cell_type": "code",
   "execution_count": 17,
   "metadata": {},
   "outputs": [
    {
     "name": "stdout",
     "output_type": "stream",
     "text": [
      "ValueError: Please provide positive number. \n"
     ]
    }
   ],
   "source": [
    "isArmstrong(-153)"
   ]
  },
  {
   "cell_type": "code",
   "execution_count": 18,
   "metadata": {},
   "outputs": [
    {
     "name": "stdout",
     "output_type": "stream",
     "text": [
      "TypeError: Please provide integer number.\n"
     ]
    }
   ],
   "source": [
    "isArmstrong(\"abc\")"
   ]
  },
  {
   "cell_type": "markdown",
   "metadata": {},
   "source": [
    "### 5.\tWrite a Python Program to Find Armstrong Number in an Interval?"
   ]
  },
  {
   "cell_type": "code",
   "execution_count": 19,
   "metadata": {},
   "outputs": [],
   "source": [
    "# 5.\tWrite a Python Program to Find Armstrong Number in an Interval?\n",
    "\n",
    "import math\n",
    "\n",
    "# Function returns the order of the number \n",
    "def order(input_num):\n",
    "    \"\"\"\n",
    "    Function returns the order of the number\n",
    "    \"\"\"\n",
    "    n = 0\n",
    "    while (input_num != 0) :\n",
    "        n = n+1\n",
    "        input_num = input_num // 10\n",
    "    return n\n",
    "\n",
    "# Functions checks if the number is Armstrong or Not\n",
    "def isArmstrong(input_num):\n",
    "    \"\"\"\n",
    "    Functions checks if the number is Armstrong or Not\n",
    "    param: \n",
    "        input_num : int\n",
    "    Returns :\n",
    "                True: if the number is Armstrong number\n",
    "                False: if the number is not an Armstrong number\n",
    "    \"\"\"\n",
    "    try:\n",
    "        # Checing type of input_num\n",
    "        if (type(input_num) == int):\n",
    "            \n",
    "            if input_num > 0:\n",
    "                # finding the order on the input number \n",
    "                n = order(input_num)\n",
    "                temp = input_num\n",
    "                sum_ = 0\n",
    "                \n",
    "                while (temp != 0):\n",
    "                    remainder = temp % 10\n",
    "                    sum_ = sum_ + math.pow(remainder , n)\n",
    "                    temp = temp // 10\n",
    "                return (sum_ == input_num)\n",
    "\n",
    "            # Rasing ValueError if input_num is not postive    \n",
    "            else :\n",
    "                raise ValueError \n",
    "        \n",
    "        # Raising Type error if input_num is not integer\n",
    "        else:\n",
    "            raise TypeError\n",
    "    \n",
    "    except TypeError as e:\n",
    "        print (f\"TypeError: Please provide integer number.\")\n",
    "    \n",
    "    except ValueError as e:\n",
    "        print (f\"ValueError: Please provide positive number. \")\n",
    "    \n",
    "    except Exception as e:\n",
    "        print (f\"Error: {e}\")\n",
    "    \n",
    "def printArmStrong(lower, upper):\n",
    "    \"\"\"\n",
    "    Function to print the ArmStrong Number in the range\n",
    "    params:\n",
    "            lower : int\n",
    "            upper : int\n",
    "    Returns: ArmStrong number in the range\n",
    "    \"\"\"\n",
    "    \n",
    "    try:\n",
    "        # Checking the type of the input provided by user.\n",
    "        if((type(upper) == int) and (type(lower) == int)):\n",
    "            \n",
    "            if ((upper > 0) and (lower >= 0)):\n",
    "\n",
    "                if (upper > lower):\n",
    "                    \n",
    "                    flag = False\n",
    "                    for num in range(lower, upper):\n",
    "                        if isArmstrong(num):\n",
    "                            flag = True\n",
    "                            print(num)            \n",
    "                else:\n",
    "                    raise ValueError\n",
    "\n",
    "                if (flag == False):\n",
    "                    print(\"There are no Armstrong Number in the provided range\")\n",
    "            else:\n",
    "                raise ValueError\n",
    "        else:\n",
    "            raise TypeError\n",
    "    \n",
    "    except TypeError:\n",
    "        print(f\"TypeError: Invalid Inputs.\"\n",
    "              f\"\\nRequired: \\t Integer inputs.\"\n",
    "              f\"\\nProvided: \\t printArmStrong({type(lower)}, {type(upper)})\")\n",
    "        \n",
    "    except ValueError:\n",
    "        print(f\"ValueError: Invalid Input. Provided printArmStrong({lower}, {upper})\"\n",
    "              f\"\\nRequired: \\n\\t Positive value of upper and lower .\"\n",
    "              f\"\\n\\t lower < upper for function printArmStroung(upper, lower) \")\n",
    "\n",
    "        \n",
    "    except Exception as e:\n",
    "        print(f\"Error: {e}\")"
   ]
  },
  {
   "cell_type": "code",
   "execution_count": 20,
   "metadata": {},
   "outputs": [
    {
     "name": "stdout",
     "output_type": "stream",
     "text": [
      "153\n",
      "370\n",
      "371\n",
      "407\n"
     ]
    }
   ],
   "source": [
    "printArmStrong(100, 1000)"
   ]
  },
  {
   "cell_type": "code",
   "execution_count": 21,
   "metadata": {},
   "outputs": [
    {
     "name": "stdout",
     "output_type": "stream",
     "text": [
      "ValueError: Invalid Input. Provided printArmStrong(1000, 10)\n",
      "Required: \n",
      "\t Positive value of upper and lower .\n",
      "\t lower < upper for function printArmStroung(upper, lower) \n"
     ]
    }
   ],
   "source": [
    "printArmStrong(1000, 10)"
   ]
  },
  {
   "cell_type": "code",
   "execution_count": 22,
   "metadata": {},
   "outputs": [
    {
     "name": "stdout",
     "output_type": "stream",
     "text": [
      "ValueError: Invalid Input. Provided printArmStrong(-1, 200)\n",
      "Required: \n",
      "\t Positive value of upper and lower .\n",
      "\t lower < upper for function printArmStroung(upper, lower) \n"
     ]
    }
   ],
   "source": [
    "printArmStrong(-1, 200)"
   ]
  },
  {
   "cell_type": "code",
   "execution_count": 23,
   "metadata": {
    "scrolled": true
   },
   "outputs": [
    {
     "name": "stdout",
     "output_type": "stream",
     "text": [
      "TypeError: Invalid Inputs.\n",
      "Required: \t Integer inputs.\n",
      "Provided: \t printArmStrong(<class 'int'>, <class 'str'>)\n"
     ]
    }
   ],
   "source": [
    "printArmStrong(100, \"1000\")"
   ]
  },
  {
   "cell_type": "markdown",
   "metadata": {},
   "source": [
    "### 6.\tWrite a Python Program to Find the Sum of Natural Numbers?"
   ]
  },
  {
   "cell_type": "code",
   "execution_count": 28,
   "metadata": {},
   "outputs": [],
   "source": [
    "# 6.\tWrite a Python Program to Find the Sum of Natural Numbers?\n",
    " \n",
    "def sum_of_natural_numbers(num):\n",
    "    \"\"\"\n",
    "    This function returns the sum_of_natural_numbers\n",
    "    param:\n",
    "        num: int\n",
    "    \"\"\"\n",
    "    \n",
    "    try:\n",
    "        # Checking the type of input\n",
    "        if (type(num)==int):\n",
    "            \n",
    "            # Checking if number is positive \n",
    "            if(num > 0):\n",
    "\n",
    "                if(num == 0):\n",
    "                    return num\n",
    "\n",
    "                else:\n",
    "                    return (num * (num + 1) / 2)\n",
    "                \n",
    "            # Raising ValueError if input is Negative\n",
    "            else:\n",
    "                raise ValueError\n",
    "                \n",
    "        # Raising TypeError if input is not Integer     \n",
    "        else:\n",
    "            raise TypeError\n",
    "    \n",
    "    except ValueError:\n",
    "        print(f\"ValueError: Required Positive number\")\n",
    "        \n",
    "    except TypeError:\n",
    "        print(f\"TypeError: Required integer\")\n",
    "        \n",
    "    except Exception as e:\n",
    "        print(f\"Error: {e}\")\n",
    "    \n"
   ]
  },
  {
   "cell_type": "code",
   "execution_count": 29,
   "metadata": {},
   "outputs": [
    {
     "data": {
      "text/plain": [
       "15.0"
      ]
     },
     "execution_count": 29,
     "metadata": {},
     "output_type": "execute_result"
    }
   ],
   "source": [
    "sum_of_natural_numbers(5)"
   ]
  },
  {
   "cell_type": "code",
   "execution_count": 30,
   "metadata": {},
   "outputs": [
    {
     "name": "stdout",
     "output_type": "stream",
     "text": [
      "ValueError: Required Positive number\n"
     ]
    }
   ],
   "source": [
    "sum_of_natural_numbers(-155)"
   ]
  },
  {
   "cell_type": "code",
   "execution_count": 31,
   "metadata": {},
   "outputs": [
    {
     "name": "stdout",
     "output_type": "stream",
     "text": [
      "TypeError: Required integer\n"
     ]
    }
   ],
   "source": [
    "sum_of_natural_numbers(\"abc\")"
   ]
  },
  {
   "cell_type": "code",
   "execution_count": null,
   "metadata": {},
   "outputs": [],
   "source": []
  }
 ],
 "metadata": {
  "kernelspec": {
   "display_name": "Python 3",
   "language": "python",
   "name": "python3"
  },
  "language_info": {
   "codemirror_mode": {
    "name": "ipython",
    "version": 3
   },
   "file_extension": ".py",
   "mimetype": "text/x-python",
   "name": "python",
   "nbconvert_exporter": "python",
   "pygments_lexer": "ipython3",
   "version": "3.6.9"
  }
 },
 "nbformat": 4,
 "nbformat_minor": 4
}
