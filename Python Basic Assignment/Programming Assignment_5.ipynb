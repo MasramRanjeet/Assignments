{
 "cells": [
  {
   "cell_type": "markdown",
   "metadata": {},
   "source": [
    "## Programming Assignment_5\n",
    "\n",
    "1.\tWrite a Python Program to Find LCM?\n",
    "2.\tWrite a Python Program to Find HCF?\n",
    "3.\tWrite a Python Program to Convert Decimal to Binary, Octal and Hexadecimal?\n",
    "4.\tWrite a Python Program To Find ASCII value of a character?\n",
    "5.\tWrite a Python Program to Make a Simple Calculator with 4 basic mathematical operations?\n"
   ]
  },
  {
   "cell_type": "markdown",
   "metadata": {},
   "source": [
    "### 1.\tWrite a Python Program to Find LCM?\n"
   ]
  },
  {
   "cell_type": "code",
   "execution_count": 1,
   "metadata": {},
   "outputs": [],
   "source": [
    "# 1.\tWrite a Python Program to Find LCM?\n",
    "\n",
    "# LCM (Least Common Multiple) of two numbers is the smallest number which can be divided by both numbers.\n",
    "#  a x b = LCM(a, b) * GCD (a, b)\n",
    "#  LCM(a, b) = (a x b) / GCD(a, b)\n",
    "\n",
    "def gcd(num1, num2):\n",
    "    \"\"\"\n",
    "    gcd(num1, num2)\n",
    "    params:\n",
    "        num1 : int\n",
    "        num2 : int\n",
    "    Returns gcd of num1 and num2\n",
    "    \"\"\"\n",
    "    try:\n",
    "        # Checking if input is integer\n",
    "        if (type(num1) == int) and (type(num2) == int):\n",
    "            \n",
    "            if (num1 == 0):\n",
    "                return num2\n",
    "            \n",
    "            return gcd(num2 % num1, num1)\n",
    "        \n",
    "        # if input is not integer raising TypeError\n",
    "        else:\n",
    "            raise TypeError\n",
    "            \n",
    "    except TypeError as e:\n",
    "        print(f\"TypeError: Expected Integer\")\n",
    "        \n",
    "    except Exception as e:\n",
    "        print(f\"Error: {e}\")\n",
    "    \n",
    "def lcm(num1, num2):\n",
    "    \"\"\"\n",
    "    lcm(num1, num2)\n",
    "    params: \n",
    "        num1 : int\n",
    "        num2 : int\n",
    "    Returns lcm of num1 and num2\n",
    "    \"\"\"\n",
    "    \n",
    "    try:\n",
    "        if (type(num1) == int) and (type(num2) == int):        \n",
    "            return (num1/ gcd(num1,num2)) * num2\n",
    "        \n",
    "        else:\n",
    "            raise TypeError\n",
    "            \n",
    "    except TypeError as e:\n",
    "        print(f\"TypeError: Expected Integer\")\n",
    "        \n",
    "    except Exception as e:\n",
    "        print(f\"Error: {e}\")"
   ]
  },
  {
   "cell_type": "code",
   "execution_count": 2,
   "metadata": {},
   "outputs": [
    {
     "data": {
      "text/plain": [
       "100.0"
      ]
     },
     "execution_count": 2,
     "metadata": {},
     "output_type": "execute_result"
    }
   ],
   "source": [
    "lcm(5, 100)"
   ]
  },
  {
   "cell_type": "code",
   "execution_count": 3,
   "metadata": {},
   "outputs": [
    {
     "name": "stdout",
     "output_type": "stream",
     "text": [
      "TypeError: Expected Integer\n"
     ]
    }
   ],
   "source": [
    "lcm(\"A\", 10)"
   ]
  },
  {
   "cell_type": "markdown",
   "metadata": {},
   "source": [
    "### 2.\tWrite a Python Program to Find HCF?\n"
   ]
  },
  {
   "cell_type": "code",
   "execution_count": 4,
   "metadata": {},
   "outputs": [],
   "source": [
    "# 2.\tWrite a Python Program to Find HCF?\n",
    "\n",
    "def hcf(num1, num2):\n",
    "    \"\"\"\n",
    "    hcf(num1, num2)\n",
    "    params:\n",
    "        num1 : int\n",
    "        num2 : int\n",
    "    Returns hcf of num1 and num2\n",
    "    \"\"\"\n",
    "    try:\n",
    "        # Checking if input is integer\n",
    "        if (type(num1) == int) and (type(num2) == int):\n",
    "            \n",
    "            if (num1 == 0):\n",
    "                return num2\n",
    "            \n",
    "            return gcd(num2 % num1, num1)\n",
    "        \n",
    "        # if input is not integer raising TypeError\n",
    "        else:\n",
    "            raise TypeError\n",
    "            \n",
    "    except TypeError as e:\n",
    "        print(f\"TypeError: Expected Integer\")\n",
    "        \n",
    "    except Exception as e:\n",
    "        print(f\"Error: {e}\") "
   ]
  },
  {
   "cell_type": "code",
   "execution_count": 5,
   "metadata": {},
   "outputs": [
    {
     "data": {
      "text/plain": [
       "12"
      ]
     },
     "execution_count": 5,
     "metadata": {},
     "output_type": "execute_result"
    }
   ],
   "source": [
    "hcf(60,48)"
   ]
  },
  {
   "cell_type": "code",
   "execution_count": 6,
   "metadata": {},
   "outputs": [
    {
     "name": "stdout",
     "output_type": "stream",
     "text": [
      "TypeError: Expected Integer\n"
     ]
    }
   ],
   "source": [
    "hcf(\"1\", 3)"
   ]
  },
  {
   "cell_type": "markdown",
   "metadata": {},
   "source": [
    "### 3.\tWrite a Python Program to Convert Decimal to Binary, Octal and Hexadecimal?"
   ]
  },
  {
   "cell_type": "code",
   "execution_count": 7,
   "metadata": {},
   "outputs": [],
   "source": [
    "# 3.\tWrite a Python Program to Convert Decimal to Binary, Octal and Hexadecimal?\n",
    "\n",
    "def decimal_to_binary(dec):\n",
    "    \"\"\"\n",
    "    Function to convert decimal to binary\n",
    "    \"\"\"\n",
    "    \n",
    "    try:\n",
    "        decimal = int(dec)\n",
    "        # Prints equivalent decimal\n",
    "        print(decimal, \" in Binary : \", bin(decimal))\n",
    "        \n",
    "    except Exception as e:\n",
    "        print(f\"Error: {e}\")\n",
    "\n",
    "        \n",
    "def decimal_to_octal(dec):\n",
    "    \"\"\"\n",
    "    Function to convert decimal to octal\n",
    "    \"\"\"\n",
    "\n",
    "    try:\n",
    "        decimal = int(dec)\n",
    "        # Prints equivalent decimal\n",
    "        print(decimal, \"in Octal : \", oct(decimal))\n",
    "  \n",
    "    except Exception as e:\n",
    "        print(f\"Error: {e}\")\n",
    "\n",
    "        \n",
    "def decimal_to_hexadecimal(dec):\n",
    "    \"\"\"\n",
    "    Function to convert decimal to hexadecimal\n",
    "    \"\"\"\n",
    "    \n",
    "    try:\n",
    "        decimal = int(dec)\n",
    "        # Prints equivalent decimal\n",
    "        print(decimal, \" in Hexadecimal : \", hex(decimal))\n",
    "        \n",
    "    except Exception as e:\n",
    "        print(f\"Error: {e}\")\n",
    "\n"
   ]
  },
  {
   "cell_type": "code",
   "execution_count": 8,
   "metadata": {},
   "outputs": [
    {
     "name": "stdout",
     "output_type": "stream",
     "text": [
      "12  in Binary :  0b1100\n",
      "12 in Octal :  0o14\n",
      "12  in Hexadecimal :  0xc\n"
     ]
    }
   ],
   "source": [
    "dec = 12\n",
    "decimal_to_binary(dec)\n",
    "decimal_to_octal(dec)\n",
    "decimal_to_hexadecimal(dec)"
   ]
  },
  {
   "cell_type": "code",
   "execution_count": 9,
   "metadata": {},
   "outputs": [
    {
     "name": "stdout",
     "output_type": "stream",
     "text": [
      "Error: invalid literal for int() with base 10: '123a'\n",
      "Error: invalid literal for int() with base 10: '123a'\n",
      "Error: invalid literal for int() with base 10: '123a'\n"
     ]
    }
   ],
   "source": [
    "dec = \"123a\"\n",
    "decimal_to_binary(dec)\n",
    "decimal_to_octal(dec)\n",
    "decimal_to_hexadecimal(dec)"
   ]
  },
  {
   "cell_type": "markdown",
   "metadata": {},
   "source": [
    "### 4.\tWrite a Python Program To Find ASCII value of a character?\n"
   ]
  },
  {
   "cell_type": "code",
   "execution_count": 10,
   "metadata": {},
   "outputs": [],
   "source": [
    "# 4.\tWrite a Python Program To Find ASCII value of a character?\n",
    "\n",
    "def find_ascii(char_):\n",
    "    \"\"\"\n",
    "    finds ascii value of a character\n",
    "    \"\"\"\n",
    "    try:\n",
    "        if ((type(char_) == str) and (len(char_) == 1)):\n",
    "            return ord(char_)\n",
    "        else :\n",
    "            raise TypeError\n",
    "            \n",
    "    except TypeError as e:\n",
    "        print(\"Error: find_ascii expected a character\")\n",
    "    except Exception as e:\n",
    "        print(e)"
   ]
  },
  {
   "cell_type": "code",
   "execution_count": 11,
   "metadata": {},
   "outputs": [
    {
     "data": {
      "text/plain": [
       "97"
      ]
     },
     "execution_count": 11,
     "metadata": {},
     "output_type": "execute_result"
    }
   ],
   "source": [
    "find_ascii('a')"
   ]
  },
  {
   "cell_type": "code",
   "execution_count": 12,
   "metadata": {},
   "outputs": [
    {
     "name": "stdout",
     "output_type": "stream",
     "text": [
      "Error: find_ascii expected a character\n"
     ]
    }
   ],
   "source": [
    "find_ascii(\"ab\")"
   ]
  },
  {
   "cell_type": "code",
   "execution_count": 13,
   "metadata": {},
   "outputs": [
    {
     "name": "stdout",
     "output_type": "stream",
     "text": [
      "Error: find_ascii expected a character\n"
     ]
    }
   ],
   "source": [
    "find_ascii(\"ab\")"
   ]
  },
  {
   "cell_type": "markdown",
   "metadata": {},
   "source": [
    "### 5.\tWrite a Python Program to Make a Simple Calculator with 4 basic mathematical operations?\n"
   ]
  },
  {
   "cell_type": "code",
   "execution_count": 15,
   "metadata": {},
   "outputs": [
    {
     "name": "stdout",
     "output_type": "stream",
     "text": [
      "Please select operation -\n",
      "1. Add\n",
      "2. Subtract\n",
      "3. Multiply\n",
      "4. Divide\n",
      "5. Exit \n",
      "\n",
      "Select operations form 1, 2, 3, 4, 5 : 2\n",
      "Enter first number: 3\n",
      "Enter second number: 4\n",
      "3 - 4 = -1 \n",
      "\n",
      "Please select operation -\n",
      "1. Add\n",
      "2. Subtract\n",
      "3. Multiply\n",
      "4. Divide\n",
      "5. Exit \n",
      "\n",
      "Select operations form 1, 2, 3, 4, 5 : 4\n",
      "Enter first number: 4\n",
      "Enter second number: 0\n",
      "4 / 0 = Error: division by zero \n",
      " \n",
      "\n",
      "Please select operation -\n",
      "1. Add\n",
      "2. Subtract\n",
      "3. Multiply\n",
      "4. Divide\n",
      "5. Exit \n",
      "\n",
      "Select operations form 1, 2, 3, 4, 5 : 5\n",
      "\n",
      " \t\t\t Exiting Calculator\n"
     ]
    }
   ],
   "source": [
    "# 5.\tWrite a Python Program to Make a Simple Calculator with 4 basic mathematical operations\n",
    "\n",
    "# Python program for simple calculator\n",
    "  \n",
    "def add(num1, num2):\n",
    "    \"\"\"\n",
    "    Function to add two numbers \n",
    "    \"\"\"\n",
    "    try:\n",
    "        return num1 + num2\n",
    "    \n",
    "    except Exception as e:\n",
    "        return f\"Error: {e} \\n\"\n",
    "\n",
    "def subtract(num1, num2):\n",
    "    \"\"\"\n",
    "    Function to subtract two numbers \n",
    "    \"\"\"\n",
    "    try:\n",
    "        return num1 - num2\n",
    "    \n",
    "    except Exception as e:\n",
    "        return f\"Error: {e} \\n\"\n",
    "    \n",
    "def multiply(num1, num2):\n",
    "    \"\"\"\n",
    "    Function to multiply two numbers\n",
    "    \"\"\"\n",
    "    try:\n",
    "        return num1 * num2\n",
    "    \n",
    "    except Exception as e:\n",
    "        return f\"Error: {e} \\n\"\n",
    "\n",
    "def divide(num1, num2):\n",
    "    \"\"\"\n",
    "    Function to divide two numbers\n",
    "    \"\"\"\n",
    "    try:\n",
    "        return num1 / num2\n",
    "    \n",
    "    except Exception as e:\n",
    "        return f\"Error: {e} \\n\"\n",
    "\n",
    "\n",
    "while True:\n",
    "    print(\"Please select operation -\\n\" \\\n",
    "            \"1. Add\\n\" \\\n",
    "            \"2. Subtract\\n\" \\\n",
    "            \"3. Multiply\\n\" \\\n",
    "            \"4. Divide\\n\" \\\n",
    "            \"5. Exit \\n\")\n",
    "\n",
    "    # Take input from the user\n",
    "    try:\n",
    "        select = int(input(\"Select operations form 1, 2, 3, 4, 5 : \"))\n",
    "\n",
    "        if select in (1, 2, 3, 4):\n",
    "\n",
    "            num1 = int(input(\"Enter first number: \"))\n",
    "            num2 = int(input(\"Enter second number: \"))\n",
    "\n",
    "\n",
    "            if select == 1:\n",
    "                print(f\"{num1} + {num2} = {add(num1, num2)} \\n\")\n",
    "\n",
    "            elif select == 2:\n",
    "                print(f\"{num1} - {num2} = {subtract(num1, num2)} \\n\")\n",
    "                \n",
    "            elif select == 3:\n",
    "                print(f\"{num1} * {num2} = {multiply(num1, num2)} \\n\")\n",
    "                \n",
    "            elif select == 4:\n",
    "                print(f\"{num1} / {num2} = {divide(num1, num2)} \\n\")\n",
    "\n",
    "        elif select == 5 :\n",
    "            print(\"\\n \\t\\t\\t Exiting Calculator\")\n",
    "            break\n",
    "            \n",
    "        else :\n",
    "            print (\"Invalid Input \\n\")\n",
    "            \n",
    "    except Exception as e:\n",
    "        print(f\"Error: {e} \\n\")"
   ]
  },
  {
   "cell_type": "code",
   "execution_count": null,
   "metadata": {},
   "outputs": [],
   "source": []
  }
 ],
 "metadata": {
  "kernelspec": {
   "display_name": "Python 3",
   "language": "python",
   "name": "python3"
  },
  "language_info": {
   "codemirror_mode": {
    "name": "ipython",
    "version": 3
   },
   "file_extension": ".py",
   "mimetype": "text/x-python",
   "name": "python",
   "nbconvert_exporter": "python",
   "pygments_lexer": "ipython3",
   "version": "3.8.3"
  }
 },
 "nbformat": 4,
 "nbformat_minor": 4
}
