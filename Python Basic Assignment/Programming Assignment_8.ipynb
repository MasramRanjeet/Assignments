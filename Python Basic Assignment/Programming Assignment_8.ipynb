{
 "cells": [
  {
   "cell_type": "markdown",
   "metadata": {},
   "source": [
    "## Programming Assignment_8\n",
    "\n",
    "1.\tWrite a Python Program to Add Two Matrices?\n",
    "2.\tWrite a Python Program to Multiply Two Matrices?\n",
    "3.\tWrite a Python Program to Transpose a Matrix?\n",
    "4.\tWrite a Python Program to Sort Words in Alphabetic Order?\n",
    "5.\tWrite a Python Program to Remove Punctuation From a String?\n"
   ]
  },
  {
   "cell_type": "code",
   "execution_count": 1,
   "metadata": {},
   "outputs": [],
   "source": [
    "# 1.\tWrite a Python Program to Add Two Matrices?\n",
    "\n",
    "def mat_add(mat1, mat2):\n",
    "    \"\"\"\n",
    "    mat_Add(mat1, mat2)\n",
    "    Params:\n",
    "        mat1, mat2 : matrix\n",
    "    return addition of two matrix\n",
    "    \"\"\"\n",
    "    \n",
    "\n",
    "    try:\n",
    "        # initializing result matrix to 0\n",
    "        result = [ [0 for j in range(len(mat1[0]))] for i in range(len(mat1))]\n",
    "        \n",
    "        # iterate through rows\n",
    "        for i in range(len(mat1)):\n",
    "            \n",
    "        # iterate through columns \n",
    "            for j in range(len(mat1[0])):\n",
    "                result[i][j] = mat1[i][j] + mat2[i][j]\n",
    "                \n",
    "        return result\n",
    "    \n",
    "    except Exception as e:\n",
    "        return f\"Error: {e}\""
   ]
  },
  {
   "cell_type": "code",
   "execution_count": 2,
   "metadata": {},
   "outputs": [
    {
     "data": {
      "text/plain": [
       "[[2, 4, 6], [2, 4, 8], [2, 4, 8], [6, 8, 10]]"
      ]
     },
     "execution_count": 2,
     "metadata": {},
     "output_type": "execute_result"
    }
   ],
   "source": [
    "mat1 = [[1,2,3],\n",
    "        [1,2,4],\n",
    "        [1,2,4],\n",
    "        [3,4,5]]\n",
    "\n",
    "mat2 = [[1,2,3],\n",
    "        [1,2,4],\n",
    "        [1,2,4],\n",
    "        [3,4,5]]\n",
    "\n",
    "mat_add(mat1, mat2)"
   ]
  },
  {
   "cell_type": "markdown",
   "metadata": {},
   "source": [
    "### 2.\tWrite a Python Program to Multiply Two Matrices?"
   ]
  },
  {
   "cell_type": "code",
   "execution_count": 3,
   "metadata": {},
   "outputs": [],
   "source": [
    "# 2.\tWrite a Python Program to Multiply Two Matrices?\n",
    "\n",
    "def mat_mul(mat1, mat2):\n",
    "    \"\"\"\n",
    "    mat_mul(mat1, mat2)\n",
    "    Params:\n",
    "        mat1, mat2 : matrix\n",
    "    return multiplication of two matrix\n",
    "    \"\"\"\n",
    "\n",
    "    try:\n",
    "        # initializing result matrix to 0\n",
    "        result = [ [0 for j in range(len(mat2[0]))] for i in range(len(mat1))]\n",
    "        \n",
    "        # iterate through rows of 1st matrix\n",
    "        for i in range(len(mat1)):\n",
    "            \n",
    "        # iterate through columns of 2nd matrix\n",
    "            for j in range(len(mat2[0])):\n",
    "                \n",
    "        # iterate through rows of 2nd matrix\n",
    "                for k in range(len(mat2)):\n",
    "                    result[i][j] += mat1[i][k] * mat2[k][j]\n",
    "                \n",
    "        return result\n",
    "    \n",
    "    except Exception as e:\n",
    "        return f\"Error: {e}\""
   ]
  },
  {
   "cell_type": "code",
   "execution_count": 4,
   "metadata": {},
   "outputs": [
    {
     "data": {
      "text/plain": [
       "[[12, 18, 26, 8], [15, 22, 31, 9], [22, 34, 50, 18]]"
      ]
     },
     "execution_count": 4,
     "metadata": {},
     "output_type": "execute_result"
    }
   ],
   "source": [
    "mat1 = [[1,2,3],\n",
    "        [1,2,4],\n",
    "        [3,4,5]]\n",
    "\n",
    "mat2 = [[1,2,3,3],\n",
    "        [1,2,4,1],\n",
    "        [3,4,5,1]]\n",
    "\n",
    "mat_mul(mat1, mat2)"
   ]
  },
  {
   "cell_type": "markdown",
   "metadata": {},
   "source": [
    "### 3.\tWrite a Python Program to Transpose a Matrix?"
   ]
  },
  {
   "cell_type": "code",
   "execution_count": 5,
   "metadata": {},
   "outputs": [],
   "source": [
    "# 3.\tWrite a Python Program to Transpose a Matrix?\n",
    "\n",
    "def mat_T(mat):\n",
    "    \"\"\"\n",
    "    mat_T(mat)\n",
    "    return Transpose of a matrix\n",
    "    \"\"\"\n",
    "    try:\n",
    "        # initializing result matrix to 0\n",
    "        result = [ [0 for i in range(len(mat))] for j in range(len(mat[0]))]\n",
    "        \n",
    "        # iterate through column \n",
    "        for i in range(len(mat[0])):\n",
    "            \n",
    "        # iterate through rows\n",
    "            for j in range(len(mat)):\n",
    "                result[i][j] = mat[j][i]\n",
    "                \n",
    "        return result\n",
    "            \n",
    "    except Exception as e:\n",
    "        return f\"Error: {e}\""
   ]
  },
  {
   "cell_type": "code",
   "execution_count": 6,
   "metadata": {},
   "outputs": [
    {
     "data": {
      "text/plain": [
       "[[1, 1, 3], [2, 2, 4], [3, 4, 5], [3, 1, 1]]"
      ]
     },
     "execution_count": 6,
     "metadata": {},
     "output_type": "execute_result"
    }
   ],
   "source": [
    "mat = [[1,2,3,3],\n",
    "        [1,2,4,1],\n",
    "        [3,4,5,1]]\n",
    "\n",
    "mat_T(mat)"
   ]
  },
  {
   "cell_type": "markdown",
   "metadata": {},
   "source": [
    "### 4.\tWrite a Python Program to Sort Words in Alphabetic Order?"
   ]
  },
  {
   "cell_type": "code",
   "execution_count": 7,
   "metadata": {},
   "outputs": [],
   "source": [
    "# 4.\tWrite a Python Program to Sort Words in Alphabetic Order?\n",
    "\n",
    "def sort_words(sentence):\n",
    "    \"\"\"\n",
    "    returns word in alphabetic order\n",
    "    \"\"\"\n",
    "    try:\n",
    "        # converting sentence to lower case \n",
    "        sentence\n",
    "        sentence = sentence.lower()\n",
    "        \n",
    "        # spliting sentence into words\n",
    "        words = sentence.split(\" \")\n",
    "        \n",
    "        # removing blanks from the list of words\n",
    "        words = [word for word in words if word.strip()]\n",
    "        \n",
    "        # sorting words\n",
    "        words.sort()\n",
    "        \n",
    "        # generating new sentence in Alphabetic order\n",
    "        newSentence = \" \".join(words)\n",
    "        \n",
    "        return newSentence\n",
    "    \n",
    "    except Exception as e:\n",
    "        return f\"Error: {e}\""
   ]
  },
  {
   "cell_type": "code",
   "execution_count": 8,
   "metadata": {},
   "outputs": [
    {
     "data": {
      "text/plain": [
       "'am datascience i learning'"
      ]
     },
     "execution_count": 8,
     "metadata": {},
     "output_type": "execute_result"
    }
   ],
   "source": [
    "sort_words(\"I am Learning      DataScience\")"
   ]
  },
  {
   "cell_type": "markdown",
   "metadata": {},
   "source": [
    "### 5.\tWrite a Python Program to Remove Punctuation From a String?"
   ]
  },
  {
   "cell_type": "code",
   "execution_count": 10,
   "metadata": {},
   "outputs": [],
   "source": [
    "# 5.\tWrite a Python Program to Remove Punctuation From a String?\n",
    "\n",
    "def remove_puntuation(string):\n",
    "    \"\"\"\n",
    "    removes puntuation from string\n",
    "    \"\"\"\n",
    "    try:\n",
    "        puntuations = '''!@#$%^&*()_+-={}[]:\";'<>?,./'\"`~\\|'''\n",
    "        \n",
    "        for i in string.lower():\n",
    "            if i in puntuations:\n",
    "                string = string.replace(i,'')\n",
    "        return string\n",
    "    \n",
    "    except Exception as e:\n",
    "        return f\"Error: {e}\"\n"
   ]
  },
  {
   "cell_type": "code",
   "execution_count": 11,
   "metadata": {},
   "outputs": [
    {
     "data": {
      "text/plain": [
       "'Keep is up'"
      ]
     },
     "execution_count": 11,
     "metadata": {},
     "output_type": "execute_result"
    }
   ],
   "source": [
    "remove_puntuation(\"Keep is !up$$$%*\")"
   ]
  },
  {
   "cell_type": "code",
   "execution_count": null,
   "metadata": {},
   "outputs": [],
   "source": []
  }
 ],
 "metadata": {
  "kernelspec": {
   "display_name": "Python 3",
   "language": "python",
   "name": "python3"
  },
  "language_info": {
   "codemirror_mode": {
    "name": "ipython",
    "version": 3
   },
   "file_extension": ".py",
   "mimetype": "text/x-python",
   "name": "python",
   "nbconvert_exporter": "python",
   "pygments_lexer": "ipython3",
   "version": "3.8.3"
  }
 },
 "nbformat": 4,
 "nbformat_minor": 4
}
